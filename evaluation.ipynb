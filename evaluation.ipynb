{
 "cells": [
  {
   "cell_type": "code",
   "execution_count": null,
   "metadata": {},
   "outputs": [],
   "source": [
    "# %%\n",
    "import openai\n",
    "import json\n",
    "\n",
    "# %% Set Keys\n",
    "with open(\"openaik.txt\", \"r\") as file:\n",
    "    openai.api_key = file.readline().strip()\n",
    "\n",
    "\n",
    "#%% Read rules\n",
    "with open(\"./outputs/rules.json\", \"r\") as file:\n",
    "    rules = json.load(file)\n",
    "\n",
    "# %% Iterate through rules\n",
    "\n",
    "for rule in rules:\n",
    "\n",
    "    system_prompt = \"You are a helpful assistant.\"\n",
    "    context_prompt = \"We are labeling input strings as true or false using a simple rule. Here are four example inputs with the correct label: \\n\"\n",
    "    task_prompt = \"\\nPlease articulate the rule for correctly classifying the input strings in a single sentence using short and clear language.\"\n",
    "\n",
    "    examples_prompt = \"\"\n",
    "    with open(f\"./outputs/{rule}.json\", \"r\") as file:\n",
    "        dataset = json.load(file)\n",
    "        for i in range(len(dataset[\"samples\"])):\n",
    "            inp = dataset[\"samples\"][str(i)][\"input\"]\n",
    "            lbl = dataset[\"samples\"][str(i)][\"label\"]\n",
    "            context_prompt += f'Input: {inp}, Label: {lbl}; '\n",
    "\n",
    "    #print(context_prompt + examples_prompt + task_prompt)\n",
    "\n",
    "    messages = [\n",
    "        {\"role\": \"system\", \"content\": system_prompt},\n",
    "        {\"role\": \"user\", \"content\": context_prompt + examples_prompt + task_prompt}\n",
    "    ]\n",
    "\n",
    "\n",
    "    # OpenAI Text Generation\n",
    "    out = openai.ChatCompletion.create(\n",
    "        model=\"gpt-3.5-turbo\",\n",
    "        messages=messages,\n",
    "    )\n",
    "    text = out.choices[0].message.content\n",
    "    print(f\"{rule=}\")\n",
    "    # print(f\"{messages=}\")\n",
    "    print(f\"{text=}\")\n",
    "    print(\"_____________________________\")\n",
    "    break\n",
    "\n",
    "# %%\n"
   ]
  },
  {
   "cell_type": "markdown",
   "metadata": {},
   "source": [
    "# Evaluating classification and rule articulation"
   ]
  },
  {
   "cell_type": "markdown",
   "metadata": {},
   "source": [
    "## Setup\n",
    "Make 20 sets of\n",
    "\n",
    "Randomly shuffle"
   ]
  },
  {
   "cell_type": "code",
   "execution_count": null,
   "metadata": {},
   "outputs": [],
   "source": []
  },
  {
   "cell_type": "markdown",
   "metadata": {},
   "source": [
    "## Measuring classification accuracy"
   ]
  },
  {
   "cell_type": "markdown",
   "metadata": {},
   "source": []
  }
 ],
 "metadata": {
  "language_info": {
   "name": "python"
  }
 },
 "nbformat": 4,
 "nbformat_minor": 2
}
