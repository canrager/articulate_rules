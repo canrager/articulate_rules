{
 "cells": [
  {
   "cell_type": "markdown",
   "metadata": {},
   "source": [
    "# Evaluating classification and rule articulation"
   ]
  },
  {
   "cell_type": "code",
   "execution_count": 1,
   "metadata": {},
   "outputs": [],
   "source": [
    "import json\n",
    "from tqdm import tqdm\n",
    "import openai\n",
    "import numpy as np\n",
    "import pandas as pd \n",
    "import re\n",
    "\n",
    "from ArticulationExperiment import ArticulationExperiment\n",
    "with open(\"openaik.txt\", \"r\") as file:\n",
    "    openai.api_key = file.readline().strip()"
   ]
  },
  {
   "cell_type": "code",
   "execution_count": 2,
   "metadata": {},
   "outputs": [],
   "source": [
    "# Define prompts\n",
    "SYSTEM_PROMPT = \"\"\n",
    "CONTEXT_PROMPT ='Your task is to label an intput sentence as \"True\" or \"False\" according to an unknown decision rule. The decision rule can be deduced from the following examples: \\n'\n",
    "CLASSIFICATION_PROMPT = '\\nPlease classify the following input with a single word \"True\" or \"False\":\\n'\n",
    "MULTIPLE_CLASSIFICATIONS_PROMPT = '\\nPlease classify each of the following inputs with a single word \"True\" or \"False\":\\n'\n",
    "ARTICULATION_PROMPT = \"\\nPlease articulate the rule for correctly classifying the inputs. Use short and clear language.\"\n",
    "COT_PROMPT = \"Please show for every input the decisive keywords for labeling true or false according to your stated rule.\"\n",
    "RULE_COMPARISON_PROMPT = 'A language model has predicted a decision rule from labeled data. I provide you with both the predicted rule and the original rule used to label the data. Please judge in a single sentence how well the prediction and matches the original. Then, please give a final score on a linear scale between 0 (no match) and 1 (perfect match). Here are the rules to compare:'"
   ]
  },
  {
   "cell_type": "markdown",
   "metadata": {},
   "source": [
    "## Evaluating single datasets"
   ]
  },
  {
   "cell_type": "code",
   "execution_count": 3,
   "metadata": {},
   "outputs": [
    {
     "name": "stdout",
     "output_type": "stream",
     "text": [
      "Original Rule:\n",
      "{'true': 'The sentence mentions a color.', 'false': 'The sentence does not mention any color.'}\n"
     ]
    }
   ],
   "source": [
    "# Choose rule\n",
    "rule_single = \"colors\"\n",
    "dataset_dir_single = \"./data/n100/\"\n",
    "\n",
    "with open(dataset_dir_single + f\"{rule_single}.json\", \"r\") as file:\n",
    "    original_rule_formulation_single = json.load(file)['rule_formulation']\n",
    "    print('Original Rule:')\n",
    "    print(original_rule_formulation_single)"
   ]
  },
  {
   "cell_type": "code",
   "execution_count": 4,
   "metadata": {},
   "outputs": [],
   "source": [
    "# String management and prompting has been set up to an external task\n",
    "exp_single = ArticulationExperiment(\n",
    "    model = \"gpt-3.5-turbo-1106\",\n",
    "    dataset_dir = dataset_dir_single,\n",
    "\n",
    "    n_exp = 1,\n",
    "    n_fewshot_examples = 5,\n",
    "    n_tasks=5,\n",
    "\n",
    "    system_prompt = SYSTEM_PROMPT,\n",
    "    context_prompt = CONTEXT_PROMPT,\n",
    "    classification_prompt = CLASSIFICATION_PROMPT,\n",
    "    articulation_prompt = ARTICULATION_PROMPT,\n",
    "    multiple_classifications_prompt = MULTIPLE_CLASSIFICATIONS_PROMPT,\n",
    ")"
   ]
  },
  {
   "cell_type": "code",
   "execution_count": 5,
   "metadata": {},
   "outputs": [
    {
     "name": "stdout",
     "output_type": "stream",
     "text": [
      "Your task is to label an intput sentence as \"True\" or \"False\" according to an unknown decision rule. The decision rule can be deduced from the following examples: \n",
      "Input: The old barn stood out with its faded coat of rustic red paint. Label: True\n",
      "Input: The artist used a soothing shade of blue for the background of her painting. Label: True\n",
      "Input: The old barn stood weathered and worn, its paint now a faded shade of yellow. Label: True\n",
      "Input: I need to buy some new shoes for work. Label: False\n",
      "Input: I need to buy some new shoes for the summer. Label: False\n",
      "Input: The firefighter wore a vibrant red helmet as she rushed into the burning building. Label: True\n",
      "Input: The kitten chased the butterfly around the garden. Label: False\n",
      "Input: The baby's infectious giggle filled the room with joy. Label: False\n",
      "Input: She ran her fingers through her hair, feeling the soft strands between her fingertips. Label: False\n",
      "Input: The old barn was a weathered, rusty brown. Label: True\n",
      "\n",
      "Please classify each of the following inputs with a single word \"True\" or \"False\":\n",
      "(0) She ran a marathon in under three hours.\n",
      "(1) The village was nestled in the rolling hills of golden wheat.\n",
      "(2) The concert was absolutely amazing, I couldn't stop dancing the whole time.\n",
      "(3) The ripe strawberries were a rich, deep shade of crimson.\n",
      "(4) The old barn was painted a striking shade of vibrant yellow.\n",
      "(5) She closed her eyes and listened to the soothing sound of rain on the roof.\n",
      "(6) The leaves crunched beneath their feet, a riot of gold and orange.\n",
      "(7) I'm thinking of redecorating my living room, I want to create a cozy atmosphere.\n",
      "(8) The walls of the room were adorned with paintings in various shades of orange.\n",
      "(9) The new restaurant in town has amazing food, I can't wait to go back.\n",
      "\n"
     ]
    }
   ],
   "source": [
    "# Build a prompt from dataset samples\n",
    "fewshot_examples_single, task_inputs_single, task_labels_single = exp_single.get_examples_and_tasks(rule=rule_single)\n",
    "experiment_prompt_single = CONTEXT_PROMPT + fewshot_examples_single + MULTIPLE_CLASSIFICATIONS_PROMPT + task_inputs_single\n",
    "print(experiment_prompt_single)"
   ]
  },
  {
   "cell_type": "code",
   "execution_count": 6,
   "metadata": {},
   "outputs": [
    {
     "name": "stdout",
     "output_type": "stream",
     "text": [
      "Based on the provided examples, it seems that the decision rule is labeling sentences as \"True\" if they describe colors or visual imagery related to the environment, and \"False\" if they do not. Applying this rule, the classification for each input would be:\n",
      "\n",
      "(0) True\n",
      "(1) True\n",
      "(2) True\n",
      "(3) True\n",
      "(4) True\n",
      "(5) False\n",
      "(6) True\n",
      "(7) False\n",
      "(8) True\n",
      "(9) False\n"
     ]
    }
   ],
   "source": [
    "# Get predictions via OpenAI API\n",
    "out = openai.ChatCompletion.create(\n",
    "    model='gpt-3.5-turbo-1106',\n",
    "    messages=[\n",
    "    {\"role\": \"system\", \"content\": SYSTEM_PROMPT},\n",
    "    {\"role\": \"user\", \"content\": experiment_prompt_single}\n",
    "    ]\n",
    ")\n",
    "\n",
    "predictions_single = out.choices[0].message.content\n",
    "print(predictions_single)"
   ]
  },
  {
   "cell_type": "code",
   "execution_count": 7,
   "metadata": {},
   "outputs": [
    {
     "name": "stdout",
     "output_type": "stream",
     "text": [
      "Experiment variables:\n",
      "Number of few-shot examples per prompt: 10 (true and false examples equally weighted)\n",
      "Number of sentences to label per prompt: 10 (true and false examples equally weighted)\n",
      "Total number of prompts evaluated: 2\n",
      "\n"
     ]
    },
    {
     "name": "stderr",
     "output_type": "stream",
     "text": [
      "  0%|          | 0/1 [00:00<?, ?it/s]"
     ]
    },
    {
     "name": "stderr",
     "output_type": "stream",
     "text": [
      "100%|██████████| 1/1 [00:04<00:00,  4.28s/it]"
     ]
    },
    {
     "name": "stdout",
     "output_type": "stream",
     "text": [
      "\n",
      "Rule title: colors\n",
      "Rule formulation: \"{'true': 'The sentence mentions a color.', 'false': 'The sentence does not mention any color.'}\"\n",
      "Accuracy: [0.7]\n"
     ]
    },
    {
     "name": "stderr",
     "output_type": "stream",
     "text": [
      "\n"
     ]
    }
   ],
   "source": [
    "# Evaluate the accuracy over a range of experiments\n",
    "print(\"Experiment variables:\")\n",
    "print(f'Number of few-shot examples per prompt: {2 * exp_single.n_fewshot_examples} (true and false examples equally weighted)')\n",
    "print(f'Number of sentences to label per prompt: {2 * exp_single.n_tasks} (true and false examples equally weighted)')\n",
    "print(f'Total number of prompts evaluated: {2 * exp_single.n_exp}\\n')\n",
    "\n",
    "accuracy_single = exp_single.classify(rule=rule_single, verbose=False)\n",
    "\n",
    "print(f'\\nRule title: {rule_single}')\n",
    "print(f'Rule formulation: \"{original_rule_formulation_single}\"')\n",
    "print(f'Accuracy: {accuracy_single}')"
   ]
  },
  {
   "cell_type": "markdown",
   "metadata": {},
   "source": [
    "## Measuring classification accuracy "
   ]
  },
  {
   "cell_type": "code",
   "execution_count": 8,
   "metadata": {},
   "outputs": [
    {
     "name": "stdout",
     "output_type": "stream",
     "text": [
      "We selected datasets for these rules:\n",
      "- lowercase\n",
      "- german\n",
      "- dates_before_2000\n",
      "- colors\n",
      "- positive_sentiment\n",
      "- political_left\n",
      "- capitalistic\n",
      "- female_subject\n",
      "- years\n",
      "- happy_sad\n",
      "- angry_calm\n",
      "- active_passive\n",
      "- positive_future_outcome\n",
      "- present\n"
     ]
    }
   ],
   "source": [
    "dataset_dir_sweep = \"./data/T1_selection/\"\n",
    "\n",
    "with open(dataset_dir_sweep + f\"rules.json\", \"r\") as file:\n",
    "    rules = json.load(file)\n",
    "    print('We selected datasets for these rules:')\n",
    "    for rule in rules.keys():\n",
    "        print(f'- {rule}')"
   ]
  },
  {
   "cell_type": "code",
   "execution_count": 11,
   "metadata": {},
   "outputs": [],
   "source": [
    "# String management and prompting has been set up to an external task\n",
    "exp_sweep = ArticulationExperiment(\n",
    "    model = \"gpt-3.5-turbo-1106\",\n",
    "    dataset_dir = dataset_dir_sweep,\n",
    "\n",
    "    n_exp = 10,\n",
    "    n_fewshot_examples = 35,\n",
    "    n_tasks=15,\n",
    "\n",
    "    system_prompt = SYSTEM_PROMPT,\n",
    "    context_prompt = CONTEXT_PROMPT,\n",
    "    classification_prompt = CLASSIFICATION_PROMPT,\n",
    "    articulation_prompt = ARTICULATION_PROMPT,\n",
    "    multiple_classifications_prompt = MULTIPLE_CLASSIFICATIONS_PROMPT,\n",
    ")"
   ]
  },
  {
   "cell_type": "code",
   "execution_count": 12,
   "metadata": {},
   "outputs": [
    {
     "name": "stdout",
     "output_type": "stream",
     "text": [
      "0. rule: lowercase\n"
     ]
    },
    {
     "name": "stderr",
     "output_type": "stream",
     "text": [
      "100%|██████████| 10/10 [02:51<00:00, 17.16s/it]\n"
     ]
    },
    {
     "name": "stdout",
     "output_type": "stream",
     "text": [
      "Evaluation of prompt #9 failed: predictions can't be parsed automatically\n",
      "1. rule: german\n"
     ]
    },
    {
     "name": "stderr",
     "output_type": "stream",
     "text": [
      " 30%|███       | 3/10 [00:49<01:52, 16.03s/it]"
     ]
    },
    {
     "name": "stdout",
     "output_type": "stream",
     "text": [
      "Evaluation of prompt #2 failed: predictions can't be parsed automatically\n"
     ]
    },
    {
     "name": "stderr",
     "output_type": "stream",
     "text": [
      " 90%|█████████ | 9/10 [02:14<00:12, 12.44s/it]"
     ]
    },
    {
     "name": "stdout",
     "output_type": "stream",
     "text": [
      "Evaluation of prompt #8 failed: predictions can't be parsed automatically\n"
     ]
    },
    {
     "name": "stderr",
     "output_type": "stream",
     "text": [
      "100%|██████████| 10/10 [02:20<00:00, 14.09s/it]\n"
     ]
    },
    {
     "name": "stdout",
     "output_type": "stream",
     "text": [
      "Evaluation of prompt #9 failed: predictions can't be parsed automatically\n",
      "2. rule: dates_before_2000\n"
     ]
    },
    {
     "name": "stderr",
     "output_type": "stream",
     "text": [
      "100%|██████████| 10/10 [03:08<00:00, 18.87s/it]\n"
     ]
    },
    {
     "name": "stdout",
     "output_type": "stream",
     "text": [
      "3. rule: colors\n"
     ]
    },
    {
     "name": "stderr",
     "output_type": "stream",
     "text": [
      "100%|██████████| 10/10 [02:33<00:00, 15.35s/it]\n"
     ]
    },
    {
     "name": "stdout",
     "output_type": "stream",
     "text": [
      "4. rule: positive_sentiment\n"
     ]
    },
    {
     "name": "stderr",
     "output_type": "stream",
     "text": [
      "100%|██████████| 10/10 [02:32<00:00, 15.21s/it]\n"
     ]
    },
    {
     "name": "stdout",
     "output_type": "stream",
     "text": [
      "5. rule: political_left\n"
     ]
    },
    {
     "name": "stderr",
     "output_type": "stream",
     "text": [
      "100%|██████████| 10/10 [02:26<00:00, 14.64s/it]\n"
     ]
    },
    {
     "name": "stdout",
     "output_type": "stream",
     "text": [
      "6. rule: capitalistic\n"
     ]
    },
    {
     "name": "stderr",
     "output_type": "stream",
     "text": [
      "100%|██████████| 10/10 [02:10<00:00, 13.02s/it]\n"
     ]
    },
    {
     "name": "stdout",
     "output_type": "stream",
     "text": [
      "7. rule: female_subject\n"
     ]
    },
    {
     "name": "stderr",
     "output_type": "stream",
     "text": [
      "100%|██████████| 10/10 [03:28<00:00, 20.87s/it]\n"
     ]
    },
    {
     "name": "stdout",
     "output_type": "stream",
     "text": [
      "8. rule: years\n"
     ]
    },
    {
     "name": "stderr",
     "output_type": "stream",
     "text": [
      "100%|██████████| 10/10 [02:56<00:00, 17.63s/it]\n"
     ]
    },
    {
     "name": "stdout",
     "output_type": "stream",
     "text": [
      "9. rule: happy_sad\n"
     ]
    },
    {
     "name": "stderr",
     "output_type": "stream",
     "text": [
      "100%|██████████| 10/10 [02:30<00:00, 15.07s/it]\n"
     ]
    },
    {
     "name": "stdout",
     "output_type": "stream",
     "text": [
      "10. rule: angry_calm\n"
     ]
    },
    {
     "name": "stderr",
     "output_type": "stream",
     "text": [
      "100%|██████████| 10/10 [03:11<00:00, 19.10s/it]\n"
     ]
    },
    {
     "name": "stdout",
     "output_type": "stream",
     "text": [
      "11. rule: active_passive\n"
     ]
    },
    {
     "name": "stderr",
     "output_type": "stream",
     "text": [
      "100%|██████████| 10/10 [02:40<00:00, 16.02s/it]\n"
     ]
    },
    {
     "name": "stdout",
     "output_type": "stream",
     "text": [
      "12. rule: positive_future_outcome\n"
     ]
    },
    {
     "name": "stderr",
     "output_type": "stream",
     "text": [
      "100%|██████████| 10/10 [03:04<00:00, 18.42s/it]\n"
     ]
    },
    {
     "name": "stdout",
     "output_type": "stream",
     "text": [
      "13. rule: present\n"
     ]
    },
    {
     "name": "stderr",
     "output_type": "stream",
     "text": [
      "100%|██████████| 10/10 [02:45<00:00, 16.51s/it]\n"
     ]
    },
    {
     "data": {
      "text/html": [
       "<div>\n",
       "<style scoped>\n",
       "    .dataframe tbody tr th:only-of-type {\n",
       "        vertical-align: middle;\n",
       "    }\n",
       "\n",
       "    .dataframe tbody tr th {\n",
       "        vertical-align: top;\n",
       "    }\n",
       "\n",
       "    .dataframe thead th {\n",
       "        text-align: right;\n",
       "    }\n",
       "</style>\n",
       "<table border=\"1\" class=\"dataframe\">\n",
       "  <thead>\n",
       "    <tr style=\"text-align: right;\">\n",
       "      <th></th>\n",
       "      <th>acc_exp0</th>\n",
       "      <th>acc_exp1</th>\n",
       "      <th>acc_exp2</th>\n",
       "      <th>acc_exp3</th>\n",
       "      <th>acc_exp4</th>\n",
       "      <th>acc_exp5</th>\n",
       "      <th>acc_exp6</th>\n",
       "      <th>acc_exp7</th>\n",
       "      <th>acc_exp8</th>\n",
       "      <th>acc_exp9</th>\n",
       "    </tr>\n",
       "  </thead>\n",
       "  <tbody>\n",
       "    <tr>\n",
       "      <th>lowercase</th>\n",
       "      <td>0.600000</td>\n",
       "      <td>0.666667</td>\n",
       "      <td>0.533333</td>\n",
       "      <td>0.466667</td>\n",
       "      <td>0.633333</td>\n",
       "      <td>0.466667</td>\n",
       "      <td>0.566667</td>\n",
       "      <td>0.400000</td>\n",
       "      <td>0.566667</td>\n",
       "      <td>0.000000</td>\n",
       "    </tr>\n",
       "    <tr>\n",
       "      <th>german</th>\n",
       "      <td>0.400000</td>\n",
       "      <td>0.433333</td>\n",
       "      <td>0.000000</td>\n",
       "      <td>0.400000</td>\n",
       "      <td>0.466667</td>\n",
       "      <td>0.566667</td>\n",
       "      <td>0.233333</td>\n",
       "      <td>0.466667</td>\n",
       "      <td>0.000000</td>\n",
       "      <td>0.000000</td>\n",
       "    </tr>\n",
       "    <tr>\n",
       "      <th>dates_before_2000</th>\n",
       "      <td>0.966667</td>\n",
       "      <td>0.966667</td>\n",
       "      <td>0.766667</td>\n",
       "      <td>0.900000</td>\n",
       "      <td>0.900000</td>\n",
       "      <td>0.833333</td>\n",
       "      <td>0.766667</td>\n",
       "      <td>0.966667</td>\n",
       "      <td>0.933333</td>\n",
       "      <td>0.800000</td>\n",
       "    </tr>\n",
       "    <tr>\n",
       "      <th>colors</th>\n",
       "      <td>0.733333</td>\n",
       "      <td>0.766667</td>\n",
       "      <td>0.800000</td>\n",
       "      <td>0.900000</td>\n",
       "      <td>0.800000</td>\n",
       "      <td>0.900000</td>\n",
       "      <td>0.900000</td>\n",
       "      <td>0.833333</td>\n",
       "      <td>0.733333</td>\n",
       "      <td>0.933333</td>\n",
       "    </tr>\n",
       "    <tr>\n",
       "      <th>positive_sentiment</th>\n",
       "      <td>0.933333</td>\n",
       "      <td>0.900000</td>\n",
       "      <td>0.833333</td>\n",
       "      <td>0.766667</td>\n",
       "      <td>0.833333</td>\n",
       "      <td>0.700000</td>\n",
       "      <td>0.866667</td>\n",
       "      <td>0.933333</td>\n",
       "      <td>0.833333</td>\n",
       "      <td>0.933333</td>\n",
       "    </tr>\n",
       "    <tr>\n",
       "      <th>political_left</th>\n",
       "      <td>0.966667</td>\n",
       "      <td>1.000000</td>\n",
       "      <td>1.000000</td>\n",
       "      <td>1.000000</td>\n",
       "      <td>1.000000</td>\n",
       "      <td>1.000000</td>\n",
       "      <td>1.000000</td>\n",
       "      <td>1.000000</td>\n",
       "      <td>1.000000</td>\n",
       "      <td>1.000000</td>\n",
       "    </tr>\n",
       "    <tr>\n",
       "      <th>capitalistic</th>\n",
       "      <td>0.966667</td>\n",
       "      <td>1.000000</td>\n",
       "      <td>0.966667</td>\n",
       "      <td>1.000000</td>\n",
       "      <td>0.833333</td>\n",
       "      <td>1.000000</td>\n",
       "      <td>0.933333</td>\n",
       "      <td>0.966667</td>\n",
       "      <td>1.000000</td>\n",
       "      <td>1.000000</td>\n",
       "    </tr>\n",
       "    <tr>\n",
       "      <th>female_subject</th>\n",
       "      <td>0.466667</td>\n",
       "      <td>0.633333</td>\n",
       "      <td>0.533333</td>\n",
       "      <td>0.566667</td>\n",
       "      <td>0.600000</td>\n",
       "      <td>0.600000</td>\n",
       "      <td>0.800000</td>\n",
       "      <td>0.666667</td>\n",
       "      <td>0.600000</td>\n",
       "      <td>0.700000</td>\n",
       "    </tr>\n",
       "    <tr>\n",
       "      <th>years</th>\n",
       "      <td>0.433333</td>\n",
       "      <td>0.366667</td>\n",
       "      <td>0.500000</td>\n",
       "      <td>0.466667</td>\n",
       "      <td>0.533333</td>\n",
       "      <td>0.633333</td>\n",
       "      <td>0.566667</td>\n",
       "      <td>0.466667</td>\n",
       "      <td>0.433333</td>\n",
       "      <td>0.500000</td>\n",
       "    </tr>\n",
       "    <tr>\n",
       "      <th>happy_sad</th>\n",
       "      <td>0.933333</td>\n",
       "      <td>0.900000</td>\n",
       "      <td>0.966667</td>\n",
       "      <td>0.966667</td>\n",
       "      <td>0.966667</td>\n",
       "      <td>0.933333</td>\n",
       "      <td>1.000000</td>\n",
       "      <td>0.933333</td>\n",
       "      <td>0.866667</td>\n",
       "      <td>0.933333</td>\n",
       "    </tr>\n",
       "    <tr>\n",
       "      <th>angry_calm</th>\n",
       "      <td>0.900000</td>\n",
       "      <td>1.000000</td>\n",
       "      <td>0.966667</td>\n",
       "      <td>1.000000</td>\n",
       "      <td>1.000000</td>\n",
       "      <td>1.000000</td>\n",
       "      <td>1.000000</td>\n",
       "      <td>0.966667</td>\n",
       "      <td>1.000000</td>\n",
       "      <td>1.000000</td>\n",
       "    </tr>\n",
       "    <tr>\n",
       "      <th>active_passive</th>\n",
       "      <td>0.666667</td>\n",
       "      <td>0.900000</td>\n",
       "      <td>0.833333</td>\n",
       "      <td>0.966667</td>\n",
       "      <td>0.866667</td>\n",
       "      <td>0.900000</td>\n",
       "      <td>0.766667</td>\n",
       "      <td>0.900000</td>\n",
       "      <td>0.933333</td>\n",
       "      <td>0.966667</td>\n",
       "    </tr>\n",
       "    <tr>\n",
       "      <th>positive_future_outcome</th>\n",
       "      <td>0.933333</td>\n",
       "      <td>0.966667</td>\n",
       "      <td>0.900000</td>\n",
       "      <td>0.900000</td>\n",
       "      <td>0.866667</td>\n",
       "      <td>0.900000</td>\n",
       "      <td>0.833333</td>\n",
       "      <td>0.900000</td>\n",
       "      <td>0.833333</td>\n",
       "      <td>0.866667</td>\n",
       "    </tr>\n",
       "    <tr>\n",
       "      <th>present</th>\n",
       "      <td>1.000000</td>\n",
       "      <td>0.866667</td>\n",
       "      <td>0.666667</td>\n",
       "      <td>0.766667</td>\n",
       "      <td>0.933333</td>\n",
       "      <td>0.833333</td>\n",
       "      <td>0.566667</td>\n",
       "      <td>0.700000</td>\n",
       "      <td>0.833333</td>\n",
       "      <td>0.833333</td>\n",
       "    </tr>\n",
       "  </tbody>\n",
       "</table>\n",
       "</div>"
      ],
      "text/plain": [
       "                         acc_exp0  acc_exp1  acc_exp2  acc_exp3  acc_exp4  \\\n",
       "lowercase                0.600000  0.666667  0.533333  0.466667  0.633333   \n",
       "german                   0.400000  0.433333  0.000000  0.400000  0.466667   \n",
       "dates_before_2000        0.966667  0.966667  0.766667  0.900000  0.900000   \n",
       "colors                   0.733333  0.766667  0.800000  0.900000  0.800000   \n",
       "positive_sentiment       0.933333  0.900000  0.833333  0.766667  0.833333   \n",
       "political_left           0.966667  1.000000  1.000000  1.000000  1.000000   \n",
       "capitalistic             0.966667  1.000000  0.966667  1.000000  0.833333   \n",
       "female_subject           0.466667  0.633333  0.533333  0.566667  0.600000   \n",
       "years                    0.433333  0.366667  0.500000  0.466667  0.533333   \n",
       "happy_sad                0.933333  0.900000  0.966667  0.966667  0.966667   \n",
       "angry_calm               0.900000  1.000000  0.966667  1.000000  1.000000   \n",
       "active_passive           0.666667  0.900000  0.833333  0.966667  0.866667   \n",
       "positive_future_outcome  0.933333  0.966667  0.900000  0.900000  0.866667   \n",
       "present                  1.000000  0.866667  0.666667  0.766667  0.933333   \n",
       "\n",
       "                         acc_exp5  acc_exp6  acc_exp7  acc_exp8  acc_exp9  \n",
       "lowercase                0.466667  0.566667  0.400000  0.566667  0.000000  \n",
       "german                   0.566667  0.233333  0.466667  0.000000  0.000000  \n",
       "dates_before_2000        0.833333  0.766667  0.966667  0.933333  0.800000  \n",
       "colors                   0.900000  0.900000  0.833333  0.733333  0.933333  \n",
       "positive_sentiment       0.700000  0.866667  0.933333  0.833333  0.933333  \n",
       "political_left           1.000000  1.000000  1.000000  1.000000  1.000000  \n",
       "capitalistic             1.000000  0.933333  0.966667  1.000000  1.000000  \n",
       "female_subject           0.600000  0.800000  0.666667  0.600000  0.700000  \n",
       "years                    0.633333  0.566667  0.466667  0.433333  0.500000  \n",
       "happy_sad                0.933333  1.000000  0.933333  0.866667  0.933333  \n",
       "angry_calm               1.000000  1.000000  0.966667  1.000000  1.000000  \n",
       "active_passive           0.900000  0.766667  0.900000  0.933333  0.966667  \n",
       "positive_future_outcome  0.900000  0.833333  0.900000  0.833333  0.866667  \n",
       "present                  0.833333  0.566667  0.700000  0.833333  0.833333  "
      ]
     },
     "execution_count": 12,
     "metadata": {},
     "output_type": "execute_result"
    }
   ],
   "source": [
    "rule_titles = []\n",
    "accuracies = []\n",
    "for i, rule in enumerate(rules.keys()):\n",
    "    print(f\"{i}. rule: {rule}\")\n",
    "    acc = exp_sweep.classify(rule)\n",
    "    accuracies.append(acc)\n",
    "    rule_titles.append(rule)\n",
    "\n",
    "df = pd.DataFrame(accuracies, columns=rule_titles, index=[f\"acc_exp{i}\" for i in range(len(accuracies[0]))])\n",
    "df"
   ]
  },
  {
   "cell_type": "code",
   "execution_count": 22,
   "metadata": {},
   "outputs": [
    {
     "data": {
      "text/plain": [
       "['lowercase',\n",
       " 'german',\n",
       " 'lowercase',\n",
       " 'german',\n",
       " 'dates_before_2000',\n",
       " 'colors',\n",
       " 'positive_sentiment',\n",
       " 'political_left',\n",
       " 'capitalistic',\n",
       " 'female_subject',\n",
       " 'years']"
      ]
     },
     "execution_count": 22,
     "metadata": {},
     "output_type": "execute_result"
    }
   ],
   "source": [
    "rule_titles"
   ]
  },
  {
   "cell_type": "code",
   "execution_count": 25,
   "metadata": {},
   "outputs": [
    {
     "data": {
      "text/plain": [
       "[('lowercase', array([0.65, 0.55, 0.  , 0.6 , 0.5 ])),\n",
       " ('german', array([0.  , 0.  , 0.  , 0.45, 0.45])),\n",
       " ('lowercase', array([0.5 , 0.35, 0.55, 0.75, 0.7 ])),\n",
       " ('german', array([0.4, 0. , 0.5, 0. , 0. ])),\n",
       " ('dates_before_2000', array([0.85, 0.85, 0.75, 0.95, 0.9 ])),\n",
       " ('colors', array([0.5 , 0.95, 0.8 , 0.95, 0.9 ])),\n",
       " ('positive_sentiment', array([0.9 , 0.85, 0.8 , 0.85, 0.9 ])),\n",
       " ('political_left', array([1.  , 0.95, 1.  , 1.  , 1.  ])),\n",
       " ('capitalistic', array([1.  , 0.85, 0.95, 0.95, 1.  ])),\n",
       " ('female_subject', array([0.75, 0.6 , 0.6 , 0.4 , 0.5 ])),\n",
       " ('years', array([0.45, 0.35, 0.4 , 0.5 , 0.65]))]"
      ]
     },
     "execution_count": 25,
     "metadata": {},
     "output_type": "execute_result"
    }
   ],
   "source": [
    "list(zip(rule_titles, accuracies))"
   ]
  },
  {
   "cell_type": "code",
   "execution_count": null,
   "metadata": {},
   "outputs": [],
   "source": [
    "#[('lowercase', array([0.65, 0.55, 0.  , 0.6 , 0.5 ])),\n",
    "#  ('german', array([0.  , 0.  , 0.  , 0.45, 0.45])),\n",
    "#  ('lowercase', array([0.5 , 0.35, 0.55, 0.75, 0.7 ])),\n",
    "#  ('german', array([0.4, 0. , 0.5, 0. , 0. ])),\n",
    "#  ('dates_before_2000', array([0.85, 0.85, 0.75, 0.95, 0.9 ])),\n",
    "#  ('colors', array([0.5 , 0.95, 0.8 , 0.95, 0.9 ])),\n",
    "#  ('positive_sentiment', array([0.9 , 0.85, 0.8 , 0.85, 0.9 ])),\n",
    "#  ('political_left', array([1.  , 0.95, 1.  , 1.  , 1.  ])),\n",
    "#  ('capitalistic', array([1.  , 0.85, 0.95, 0.95, 1.  ])),\n",
    "#  ('female_subject', array([0.75, 0.6 , 0.6 , 0.4 , 0.5 ])),\n",
    "#  ('years', array([0.45, 0.35, 0.4 , 0.5 , 0.65]))]"
   ]
  },
  {
   "cell_type": "code",
   "execution_count": 32,
   "metadata": {},
   "outputs": [
    {
     "data": {
      "text/html": [
       "<div>\n",
       "<style scoped>\n",
       "    .dataframe tbody tr th:only-of-type {\n",
       "        vertical-align: middle;\n",
       "    }\n",
       "\n",
       "    .dataframe tbody tr th {\n",
       "        vertical-align: top;\n",
       "    }\n",
       "\n",
       "    .dataframe thead th {\n",
       "        text-align: right;\n",
       "    }\n",
       "</style>\n",
       "<table border=\"1\" class=\"dataframe\">\n",
       "  <thead>\n",
       "    <tr style=\"text-align: right;\">\n",
       "      <th></th>\n",
       "      <th>acc_exp0</th>\n",
       "      <th>acc_exp1</th>\n",
       "      <th>acc_exp2</th>\n",
       "      <th>acc_exp3</th>\n",
       "      <th>acc_exp4</th>\n",
       "    </tr>\n",
       "  </thead>\n",
       "  <tbody>\n",
       "    <tr>\n",
       "      <th>lowercase</th>\n",
       "      <td>0.65</td>\n",
       "      <td>0.55</td>\n",
       "      <td>0.00</td>\n",
       "      <td>0.60</td>\n",
       "      <td>0.50</td>\n",
       "    </tr>\n",
       "    <tr>\n",
       "      <th>german</th>\n",
       "      <td>0.00</td>\n",
       "      <td>0.00</td>\n",
       "      <td>0.00</td>\n",
       "      <td>0.45</td>\n",
       "      <td>0.45</td>\n",
       "    </tr>\n",
       "    <tr>\n",
       "      <th>lowercase</th>\n",
       "      <td>0.50</td>\n",
       "      <td>0.35</td>\n",
       "      <td>0.55</td>\n",
       "      <td>0.75</td>\n",
       "      <td>0.70</td>\n",
       "    </tr>\n",
       "    <tr>\n",
       "      <th>german</th>\n",
       "      <td>0.40</td>\n",
       "      <td>0.00</td>\n",
       "      <td>0.50</td>\n",
       "      <td>0.00</td>\n",
       "      <td>0.00</td>\n",
       "    </tr>\n",
       "    <tr>\n",
       "      <th>dates_before_2000</th>\n",
       "      <td>0.85</td>\n",
       "      <td>0.85</td>\n",
       "      <td>0.75</td>\n",
       "      <td>0.95</td>\n",
       "      <td>0.90</td>\n",
       "    </tr>\n",
       "    <tr>\n",
       "      <th>colors</th>\n",
       "      <td>0.50</td>\n",
       "      <td>0.95</td>\n",
       "      <td>0.80</td>\n",
       "      <td>0.95</td>\n",
       "      <td>0.90</td>\n",
       "    </tr>\n",
       "    <tr>\n",
       "      <th>positive_sentiment</th>\n",
       "      <td>0.90</td>\n",
       "      <td>0.85</td>\n",
       "      <td>0.80</td>\n",
       "      <td>0.85</td>\n",
       "      <td>0.90</td>\n",
       "    </tr>\n",
       "    <tr>\n",
       "      <th>political_left</th>\n",
       "      <td>1.00</td>\n",
       "      <td>0.95</td>\n",
       "      <td>1.00</td>\n",
       "      <td>1.00</td>\n",
       "      <td>1.00</td>\n",
       "    </tr>\n",
       "    <tr>\n",
       "      <th>capitalistic</th>\n",
       "      <td>1.00</td>\n",
       "      <td>0.85</td>\n",
       "      <td>0.95</td>\n",
       "      <td>0.95</td>\n",
       "      <td>1.00</td>\n",
       "    </tr>\n",
       "    <tr>\n",
       "      <th>female_subject</th>\n",
       "      <td>0.75</td>\n",
       "      <td>0.60</td>\n",
       "      <td>0.60</td>\n",
       "      <td>0.40</td>\n",
       "      <td>0.50</td>\n",
       "    </tr>\n",
       "    <tr>\n",
       "      <th>years</th>\n",
       "      <td>0.45</td>\n",
       "      <td>0.35</td>\n",
       "      <td>0.40</td>\n",
       "      <td>0.50</td>\n",
       "      <td>0.65</td>\n",
       "    </tr>\n",
       "  </tbody>\n",
       "</table>\n",
       "</div>"
      ],
      "text/plain": [
       "                    acc_exp0  acc_exp1  acc_exp2  acc_exp3  acc_exp4\n",
       "lowercase               0.65      0.55      0.00      0.60      0.50\n",
       "german                  0.00      0.00      0.00      0.45      0.45\n",
       "lowercase               0.50      0.35      0.55      0.75      0.70\n",
       "german                  0.40      0.00      0.50      0.00      0.00\n",
       "dates_before_2000       0.85      0.85      0.75      0.95      0.90\n",
       "colors                  0.50      0.95      0.80      0.95      0.90\n",
       "positive_sentiment      0.90      0.85      0.80      0.85      0.90\n",
       "political_left          1.00      0.95      1.00      1.00      1.00\n",
       "capitalistic            1.00      0.85      0.95      0.95      1.00\n",
       "female_subject          0.75      0.60      0.60      0.40      0.50\n",
       "years                   0.45      0.35      0.40      0.50      0.65"
      ]
     },
     "execution_count": 32,
     "metadata": {},
     "output_type": "execute_result"
    }
   ],
   "source": []
  },
  {
   "cell_type": "markdown",
   "metadata": {},
   "source": [
    "## Testing rule articulation"
   ]
  },
  {
   "cell_type": "markdown",
   "metadata": {},
   "source": [
    "### Do rule articulation based on few-shot prompts"
   ]
  },
  {
   "cell_type": "code",
   "execution_count": 28,
   "metadata": {},
   "outputs": [
    {
     "name": "stdout",
     "output_type": "stream",
     "text": [
      "Input: Economic freedom spurs entrepreneurship and empowers individuals to pursue their dreams. Label: True\n",
      "Input: Hard work and innovation should be rewarded with financial success in a free economy. Label: True\n",
      "Input: Free enterprise empowers individuals to start businesses and create jobs, fostering economic opportunity and growth. Label: True\n",
      "Input: Private ownership and investment in businesses incentivize efficiency and productivity. Label: True\n",
      "Input: Individuals should have the opportunity to invest their savings and build wealth for themselves and their families. Label: True\n",
      "Input: Consumer choice drives market efficiency and product quality. Label: True\n",
      "Input: Competition in the marketplace encourages businesses to continuously improve and innovate. Label: True\n",
      "Input: The free market fosters innovation and competition, leading to economic growth and prosperity. Label: True\n",
      "Input: Market competition spurs efficiency and drives down prices. Label: True\n",
      "Input: Entrepreneurship encourages innovation and economic growth, benefiting society as a whole. Label: True\n",
      "Input: The billionaires hoard their wealth while many struggle to make ends meet. Label: False\n",
      "Input: Economic systems should prioritize human needs over financial gain. Label: False\n",
      "Input: The relentless commodification of human labor dehumanizes individuals and undermines their inherent value. Label: False\n",
      "Input: Consumerism perpetuates unsustainable and wasteful practices. Label: False\n",
      "Input: Corporate greed has led to widespread environmental destruction. Label: False\n",
      "Input: The housing market is manipulated by wealthy investors, driving up prices and displacing long-time residents. Label: False\n",
      "Input: The relentless pursuit of economic growth neglects the well-being of communities and individuals. Label: False\n",
      "Input: Local artisans struggle to compete with mass-produced goods, putting their traditional crafts at risk of extinction. Label: False\n",
      "Input: Inequality continues to widen as the top 1% amass more wealth. Label: False\n",
      "Input: I believe that access to quality healthcare and education should not be determined by one's ability to pay. Label: False\n",
      "\n"
     ]
    },
    {
     "data": {
      "text/plain": [
       "'The decision rule for classifying the inputs is that any statement promoting the benefits of a free market economy, entrepreneurship, innovation, competition, and individual empowerment should be labeled as \"True,\" while any statement critical of wealth accumulation, corporate influence, inequality, and prioritizing human needs over financial gain should be labeled as \"False.\"'"
      ]
     },
     "execution_count": 28,
     "metadata": {},
     "output_type": "execute_result"
    }
   ],
   "source": [
    "fewshot_examples, _, _ = exp.get_fewshot_examples(rule='capitalistic')\n",
    "print(fewshot_examples)\n",
    "\n",
    "rule_articulation = exp.generate_rule_articulation(fewshot_examples)\n",
    "rule_articulation"
   ]
  },
  {
   "cell_type": "markdown",
   "metadata": {},
   "source": [
    "### Does the articulated rule match the original rule?"
   ]
  },
  {
   "cell_type": "code",
   "execution_count": 30,
   "metadata": {},
   "outputs": [
    {
     "name": "stdout",
     "output_type": "stream",
     "text": [
      "test_rule='capitalistic'\n",
      "test_rule_formulation=\"The sentence is in favor of capitalistic ideals and does not contain the words 'capitalist' or 'communist' or 'socialist'.\"\n",
      "rule_articulation='The rule for classifying the inputs as \"True\" or \"False\" is:\\n- Inputs that emphasize the positive impact of private enterprise, entrepreneurship, innovation, competition, and market-driven economy are labeled as \"True.\"\\n- Inputs that criticize the pursuit of wealth, consumerism, corporate profit prioritization over social welfare, and inequalities in access to essential resources are labeled as \"False.\"'\n",
      "judge_text='The predicted rule closely matches the original rule, with a high level of alignment in capturing the essence of favoring capitalistic ideals and identifying criteria for classifying inputs as \"True\" or \"False.\" I would rate the match as 0.9 out of 1.'\n",
      "score='0.9'\n",
      "test_rule='capitalistic'\n",
      "test_rule_formulation=\"The sentence is in favor of capitalistic ideals and does not contain the words 'capitalist' or 'communist' or 'socialist'.\"\n",
      "rule_articulation='Based on the examples, it seems that the decision rule for labeling the input sentences is as follows:\\n- If the sentence promotes free-market principles, economic freedom, individual empowerment, and limited government intervention, it is labeled as \"True.\"\\n- If the sentence criticizes capitalism, promotes prioritizing well-being over profits, or highlights negative effects of corporate greed, it is labeled as \"False.\"'\n",
      "judge_text='The predicted rule captures the essence of the original rule by considering the support for capitalistic ideals and the absence of specific keywords, but expands the criteria to include positive and negative aspects of capitalism. I would give this a score of 0.8.'\n",
      "score='0.8'\n",
      "test_rule='capitalistic'\n",
      "test_rule_formulation=\"The sentence is in favor of capitalistic ideals and does not contain the words 'capitalist' or 'communist' or 'socialist'.\"\n",
      "rule_articulation='The rule for correctly classifying the inputs is to label them as \"True\" if they promote free-market principles, competition, individual initiative, and merit-based rewards. Label inputs as \"False\" if they express concerns about inequality, lack of access to essential services, and prioritize social impact over profit.'\n",
      "judge_text='The predicted rule partially matches the original, but it introduces some new criteria and does not completely align with the original. I would score it a 0.7 on the linear scale.'\n",
      "score='0.7'\n",
      "test_rule='capitalistic'\n",
      "test_rule_formulation=\"The sentence is in favor of capitalistic ideals and does not contain the words 'capitalist' or 'communist' or 'socialist'.\"\n",
      "rule_articulation='The inputs are classified as \"True\" if they support the principles of free market economy, competition, entrepreneurship, private property rights, and mutual benefit, and are classified as \"False\" if they criticize profit-driven motives, inequality, exploitation, and environmental neglect.'\n",
      "judge_text='The predicted rule captures the essence of the original rule but is more specific and detailed in its conditions, achieving a good match overall.\\n\\nFinal score: 0.8'\n",
      "score='0.8'\n",
      "test_rule='capitalistic'\n",
      "test_rule_formulation=\"The sentence is in favor of capitalistic ideals and does not contain the words 'capitalist' or 'communist' or 'socialist'.\"\n",
      "rule_articulation='Based on the given examples, the decision rule for labeling the input sentences as \"True\" or \"False\" seems to be based on the alignment with free market principles and the positive impact of competition, innovation, individual initiative, and private property rights on economic growth and prosperity. Therefore, inputs that express support for these principles are labeled as \"True,\" while those expressing opposition or concerns about economic inequality, commodification of labor, and profit-driven motives are labeled as \"False.\"'\n",
      "judge_text='The predicted rule closely matches the original rule, with a high level of alignment in terms of favoring capitalistic ideals and excluding specific political terms, resulting in a final score of 0.9.'\n",
      "score='0.9'\n",
      "test_rule='capitalistic'\n",
      "test_rule_formulation=\"The sentence is in favor of capitalistic ideals and does not contain the words 'capitalist' or 'communist' or 'socialist'.\"\n",
      "rule_articulation='Based on the given examples, the decision rule for labeling the input as \"True\" or \"False\" seems to be:\\n\\nInputs that emphasize the positive impact of economic freedom, individual initiative, entrepreneurship, and private property rights should be labeled as \"True,\" while inputs that highlight negative consequences of wealth accumulation, income inequality, and exploitation should be labeled as \"False.\"'\n",
      "judge_text='The predicted rule matches the original to a moderate extent, but it introduces additional criteria.\\nFinal score: 0.7'\n",
      "score='0.7'\n",
      "test_rule='capitalistic'\n",
      "test_rule_formulation=\"The sentence is in favor of capitalistic ideals and does not contain the words 'capitalist' or 'communist' or 'socialist'.\"\n",
      "rule_articulation='Based on the given examples, the decision rule for labeling the input sentences as \"True\" or \"False\" appears to be related to their alignment with the principles of free market economy, individual empowerment, economic growth, and entrepreneurial spirit. The inputs that emphasize these concepts are labeled as \"True,\" while those that highlight exploitation, social inequality, and opposition to wealth accumulation are labeled as \"False.\"'\n",
      "judge_text='The predicted decision rule aligns well with the original rule and captures the essence of favoring capitalistic ideals. I would give it a score of 0.8 for its overall match.'\n",
      "score='0.8'\n",
      "test_rule='capitalistic'\n",
      "test_rule_formulation=\"The sentence is in favor of capitalistic ideals and does not contain the words 'capitalist' or 'communist' or 'socialist'.\"\n",
      "rule_articulation='Based on the examples, the decision rule for labeling the input sentences is: \\nIf the statement promotes the benefits of a free market economy, private ownership, competition, investment, and entrepreneurship, the label is \"True\". \\nIf the statement criticizes income inequality, exploitative labor practices, equating worth with monetary success, private ownership of natural resources, and prioritizing profit over human rights, the label is \"False\".'\n",
      "judge_text='The predicted rule partially matches the original, but introduces additional criteria that were not part of the original rule. Final score: 0.7'\n",
      "score='0.7'\n",
      "test_rule='capitalistic'\n",
      "test_rule_formulation=\"The sentence is in favor of capitalistic ideals and does not contain the words 'capitalist' or 'communist' or 'socialist'.\"\n",
      "rule_articulation='Based on the given examples, the decision rule for classifying the inputs as \"True\" or \"False\" appears to be as follows:\\n\\nInputs advocating for free market principles and individual economic freedom are labeled as \"True,\" while inputs expressing concerns about economic inequality, wealth accumulation, and exploitation are labeled as \"False.\"'\n",
      "judge_text=\"The predicted rule partially matches the original rule by capturing the essence of advocating for free market principles and individual economic freedom but includes additional criteria. However, it misses the specific exclusion of the words 'capitalist,' 'communist,' or 'socialist' from the original rule.\\nI would rate the match as 0.7.\"\n",
      "score='0.7'\n",
      "test_rule='capitalistic'\n",
      "test_rule_formulation=\"The sentence is in favor of capitalistic ideals and does not contain the words 'capitalist' or 'communist' or 'socialist'.\"\n",
      "rule_articulation='The decision rule for labeling the inputs as \"True\" or \"False\" is based on whether the statement promotes the positive aspects of free market capitalism or highlights negative societal implications of wealth accumulation and prioritizing profits over social well-being. Specifically, inputs that emphasize economic freedom, innovation, competition, and market-driven efficiency are labeled as \"True,\" while those expressing concerns about wealth inequality, exploitation, and prioritizing profits over social values are labeled as \"False.\"'\n",
      "judge_text='The predicted rule closely matches the original rule, capturing the essence of promoting capitalism and avoiding specific labels, resulting in a high degree of alignment.\\nI would score this at 0.9.'\n",
      "score='0.9'\n",
      "test_rule='capitalistic'\n",
      "test_rule_formulation=\"The sentence is in favor of capitalistic ideals and does not contain the words 'capitalist' or 'communist' or 'socialist'.\"\n",
      "rule_articulation='Based on the given examples, the rule for labeling the input sentences is as follows: \\nLabel the sentence as \"True\" if it promotes the positive impact of market-oriented economic principles such as competition, economic freedom, entrepreneurship, supply and demand, private property rights, and market-based solutions. \\nLabel the sentence as \"False\" if it opposes or challenges these economic principles, advocating for fair wages, equitable distribution of resources, human needs over financial gain, and criticizing exploitation and the equating of worth with monetary success.'\n",
      "judge_text='The predicted rule partially matches the original rule, but introduces additional criteria related to economic principles and social impact, which were not explicitly part of the original rule. I would give it a score of 0.7 on a scale of 0 to 1.'\n",
      "score='0.7'\n",
      "test_rule='capitalistic'\n",
      "test_rule_formulation=\"The sentence is in favor of capitalistic ideals and does not contain the words 'capitalist' or 'communist' or 'socialist'.\"\n",
      "rule_articulation='Based on the provided examples, it seems that the decision rule for labeling the input sentences as \"True\" or \"False\" is related to the support or opposition of capitalist and free-market economic principles.\\n\\nThe rule appears to be:\\n- If the sentence supports capitalist/free-market economic principles and emphasizes individual freedom, entrepreneurship, and economic incentives, label it as \"True.\"\\n- If the sentence criticizes capitalist/free-market economic principles and focuses on issues such as social inequality, exploitation, and the negative impact of corporate greed, label it as \"False.\"\\n\\nThis decision rule seems to categorize the input sentences based on their alignment with or opposition to capitalist and free-market economic ideologies.'\n",
      "judge_text='The predicted rule closely matches the original rule, showing a high level of correspondence between the two. I would score this a 0.9 on a linear scale between 0 and 1.'\n",
      "score='0.9'\n",
      "test_rule='capitalistic'\n",
      "test_rule_formulation=\"The sentence is in favor of capitalistic ideals and does not contain the words 'capitalist' or 'communist' or 'socialist'.\"\n",
      "rule_articulation='Based on the provided examples, the decision rule for labeling the inputs appears to be: \\nLabel as \"True\" if the statement supports entrepreneurship, free markets, private property rights, individual freedom, and the pursuit of economic gain for the betterment of society. Label as \"False\" if the statement criticizes profit-driven motives, capitalism, economic inequality, or supports community-focused values over individual economic gain.'\n",
      "judge_text='The predicted rule partially matches the original rule by capturing the spirit of favoring capitalistic ideals but introducing broader criteria not present in the original rule. I would rate the match as 0.7 out of 1.'\n",
      "score='0.7'\n",
      "test_rule='capitalistic'\n",
      "test_rule_formulation=\"The sentence is in favor of capitalistic ideals and does not contain the words 'capitalist' or 'communist' or 'socialist'.\"\n",
      "rule_articulation='Based on the provided examples, the rule for correctly classifying the inputs is as follows:\\n- Label as \"True\" if the statement promotes economic freedom, individual initiative, competition, innovation, and profit motive in a capitalist society.\\n- Label as \"False\" if the statement advocates for fair compensation, healthcare for all, community well-being over profits, and criticizes the concentration of wealth and cutthroat competition.'\n",
      "judge_text='The predicted rule does not perfectly match the original rule, as it introduces additional criteria related to fair compensation and community well-being, which are not explicitly stated in the original rule. I would score this match as 0.7 on the linear scale.'\n",
      "score='0.7'\n",
      "test_rule='capitalistic'\n",
      "test_rule_formulation=\"The sentence is in favor of capitalistic ideals and does not contain the words 'capitalist' or 'communist' or 'socialist'.\"\n",
      "rule_articulation='Based on the examples provided, the decision rule for labelling the input sentences as \"True\" or \"False\" seems to be based on the alignment with free market principles and the promotion of individual entrepreneurship and economic growth. Inputs that support or align with these principles are labeled as \"True,\" while inputs that critique or diverge from these principles are labeled as \"False.\"'\n",
      "judge_text='The predicted rule matches the original rule well, with a score of 0.9 out of 1. The predicted rule captures the spirit and criteria of the original rule, despite some differences in wording.'\n",
      "score='0.9'\n",
      "test_rule='capitalistic'\n",
      "test_rule_formulation=\"The sentence is in favor of capitalistic ideals and does not contain the words 'capitalist' or 'communist' or 'socialist'.\"\n",
      "rule_articulation='The rule for labeling the inputs as \"True\" or \"False\" seems to be based on whether the statement aligns with the principles of free market capitalism and economic liberalism. Inputs that emphasize the benefits of free trade, private property rights, market-driven economy, and individual enterprise are labeled as \"True,\" while inputs that critique wealth accumulation, exploitation, and prioritize collective well-being over individual wealth accumulation are labeled as \"False.\"'\n",
      "judge_text='The predicted rule seems to capture the essence of the original rule, but it introduces additional criteria and nuances, leading to a slightly broader scope.\\nFinal score: 0.8'\n",
      "score='0.8'\n",
      "test_rule='capitalistic'\n",
      "test_rule_formulation=\"The sentence is in favor of capitalistic ideals and does not contain the words 'capitalist' or 'communist' or 'socialist'.\"\n",
      "rule_articulation='Based on the provided examples, the rule for classifying the inputs is as follows: \\n- If the input promotes free-market capitalism, economic freedom, entrepreneurship, and individual success, it should be labeled as \"True.\"\\n- If the input criticizes capitalist principles, advocates for wealth redistribution, or highlights negative aspects of capitalism such as exploitation, inequality, or commodification, it should be labeled as \"False.\"'\n",
      "judge_text='The predicted rule strongly matches the original rule, demonstrating a clear understanding of the criteria involved. I would rate the match as 0.9.'\n",
      "score='0.9'\n",
      "test_rule='capitalistic'\n",
      "test_rule_formulation=\"The sentence is in favor of capitalistic ideals and does not contain the words 'capitalist' or 'communist' or 'socialist'.\"\n",
      "rule_articulation='Based on the provided examples, the decision rule for labeling the input sentences as \"True\" or \"False\" seems to be based on the alignment with the principles of economic freedom, free market, capitalism, and profit motivation. \\n\\n\"True\" is assigned to sentences that promote or support economic freedom, free market, capitalism, individual empowerment, profit motivation, healthy competition, innovation, and entrepreneurship. \\n\\n\"False\" is assigned to sentences that critique or oppose the emphasis on profit, wealth accumulation, economic inequality, consumerism, and the prioritization of social impact and human dignity over profit.'\n",
      "judge_text='The predicted rule closely aligns with the original rule, capturing the essence of favoring capitalistic ideals and exclusion of specific terms. I would rate the match as 0.9 out of 1.'\n",
      "score='0.9'\n",
      "test_rule='capitalistic'\n",
      "test_rule_formulation=\"The sentence is in favor of capitalistic ideals and does not contain the words 'capitalist' or 'communist' or 'socialist'.\"\n",
      "rule_articulation='Based on the examples provided, the decision rule seems to be: \\nIf the input sentence supports the positive impact of free market principles or capitalist ideals, label it as \"True\". If the input sentence criticizes or opposes these principles, label it as \"False\".'\n",
      "judge_text='The predicted rule closely matches the original rule, aligning with the requirement to be in favor of capitalistic ideals and not containing specific words, but with some additional nuances in the prediction. The final score is 0.9.'\n",
      "score='0.9'\n",
      "test_rule='capitalistic'\n",
      "test_rule_formulation=\"The sentence is in favor of capitalistic ideals and does not contain the words 'capitalist' or 'communist' or 'socialist'.\"\n",
      "rule_articulation='Based on the provided examples, it seems that the decision rule for labeling the input sentences as \"True\" or \"False\" is related to the support for free market principles and profit-driven economic incentives. Specifically, input sentences that promote the benefits of free market, private enterprise, profit motive, and entrepreneurial spirit are labeled as \"True,\" while those expressing concerns about prioritizing human needs over financial gain, environmental protection, impact on local artisans, and criticism of profit-driven motives are labeled as \"False.\" In short, the rule appears to favor pro-free market and profit-driven economic perspectives for labeling as \"True.\"'\n",
      "judge_text='The predicted rule matches the original rule well, and I would give it an 0.9 on a linear scale between 0 and 1.'\n",
      "score='0.9'\n",
      "test_rule='capitalistic'\n",
      "test_rule_formulation=\"The sentence is in favor of capitalistic ideals and does not contain the words 'capitalist' or 'communist' or 'socialist'.\"\n",
      "rule_articulation='Based on the provided examples, the decision rule for labeling the inputs as \"True\" or \"False\" appears to be:\\n\\nTrue: Statements that support individual initiative, hard work, free market, economic freedom, private ownership, investment, and limited government intervention leading to economic growth and prosperity.\\n\\nFalse: Statements that criticize wealth-based success, commodification of basic needs, inequality, consumerism, environmental sustainability over profits, systemic inequalities, and exploitation.\\n\\nIn summary, the decision rule appears to favor statements that endorse the tenets of capitalism, free market economics, and individual success through hard work and investment, while opposing statements that highlight social inequalities, exploitation, and environmental damage caused by consumerism.'\n",
      "judge_text='The predicted rule closely matches the original rule, capturing the essence of favoring capitalistic ideals and rejecting certain anti-capitalistic sentiments. I would score it a 0.9 on a linear scale between 0 and 1.'\n",
      "score='0.9'\n",
      "test_rule='capitalistic'\n",
      "test_rule_formulation=\"The sentence is in favor of capitalistic ideals and does not contain the words 'capitalist' or 'communist' or 'socialist'.\"\n",
      "rule_articulation='Based on the examples, the decision rule for classifying the inputs as \"True\" or \"False\" is as follows:\\nIf the statement promotes or supports principles of free market economy, capitalism, profit motive, competition, innovation, and individual success, then label it as \"True\". Conversely, if the statement criticizes or opposes these principles, advocating for equality, fair compensation, collaboration, or social welfare, then label it as \"False\".'\n",
      "judge_text='The predicted rule slightly expands the original rule by incorporating additional criteria related to capitalism, resulting in a good match but not entirely consistent. I would say it is a match of 0.8 on a scale from 0 to 1.'\n",
      "score='0.8'\n",
      "test_rule='capitalistic'\n",
      "test_rule_formulation=\"The sentence is in favor of capitalistic ideals and does not contain the words 'capitalist' or 'communist' or 'socialist'.\"\n",
      "rule_articulation='Based on the examples provided, the decision rule for labeling the input sentences is: \\n- If the sentence promotes or supports a free market, economic freedom, individual gain, and profit-driven incentives, label it as \"True.\" \\n- If the sentence opposes these principles and emphasizes the prioritization of social welfare, equality, and environmental sustainability over profits, label it as \"False.\"'\n",
      "judge_text='The predicted rule largely matches the original rule in capturing the essence of favoring capitalistic ideals, despite introducing additional criteria such as environmental sustainability. I would give it a score of 0.8 on the linear scale.'\n",
      "score='0.8'\n",
      "test_rule='capitalistic'\n",
      "test_rule_formulation=\"The sentence is in favor of capitalistic ideals and does not contain the words 'capitalist' or 'communist' or 'socialist'.\"\n",
      "rule_articulation='Based on the examples provided, the rule for correctly classifying the inputs as \"True\" or \"False\" seems to be related to the support of free market principles and individual economic freedom. Inputs that support the positive impact of economic freedom, entrepreneurship, free markets, individual responsibility, and profit motive are labeled as \"True,\" while inputs that criticize the prioritization of profit over societal well-being, income inequality, exploitation, and unjust economic practices are labeled as \"False.\"'\n",
      "judge_text='The predicted rule seems to align well with the original rule, capturing the essence of favoring capitalistic ideals and excluding specific terms while adding a nuanced categorization of inputs based on economic principles.\\nFinal score: 0.9'\n",
      "score='0.9'\n",
      "test_rule='capitalistic'\n",
      "test_rule_formulation=\"The sentence is in favor of capitalistic ideals and does not contain the words 'capitalist' or 'communist' or 'socialist'.\"\n",
      "rule_articulation='Based on the examples provided, it seems the decision rule for labeling the input sentences as \"True\" or \"False\" is related to the support for free-market capitalism and individual economic success. The rule appears to classify statements that align with the principles of free-market economics and individual opportunity as \"True,\" while statements that critique or oppose the emphasis on individual wealth accumulation and competition are labeled as \"False.\"'\n",
      "judge_text='The predicted rule partially captures the essence of the original rule by focusing on support for free-market capitalism and individual economic success, but does not explicitly mention the absence of specific words. I would give it a score of 0.7 on a linear scale between 0 and 1.'\n",
      "score='0.7'\n"
     ]
    },
    {
     "data": {
      "text/plain": [
       "0.812"
      ]
     },
     "execution_count": 30,
     "metadata": {},
     "output_type": "execute_result"
    }
   ],
   "source": [
    "scores = np.zeros(exp.n_exp)\n",
    "for i in range(exp.n_exp):\n",
    "    test_rule = 'capitalistic'\n",
    "\n",
    "    test_rule_formulation = rules[test_rule][\"true\"]\n",
    "\n",
    "    fewshot_examples, _, _ = exp.get_fewshot_examples(rule=test_rule)\n",
    "    rule_articulation = exp.generate_rule_articulation(fewshot_examples)\n",
    "\n",
    "\n",
    "    messages = [\n",
    "        {\"role\": \"system\", \"content\": \"\"},\n",
    "        {\"role\": \"user\", \"content\": RULE_COMPARISON_PROMPT + f\"Original rule: {test_rule_formulation}\\n\" + f\"Predicted rule: {rule_articulation}\"},\n",
    "        ]\n",
    "\n",
    "    # OpenAI Text Generation\n",
    "    out = openai.ChatCompletion.create(\n",
    "        model=\"gpt-3.5-turbo-1106\",\n",
    "        messages=messages,\n",
    "    )\n",
    "    judge_text = out.choices[0].message.content\n",
    "    print(f\"{test_rule=}\")\n",
    "    print(f\"{test_rule_formulation=}\")\n",
    "    print(f\"{rule_articulation=}\")\n",
    "    print(f\"{judge_text=}\")\n",
    "\n",
    "    try:\n",
    "        score = re.findall(\"\\d+\\.\\d+\", judge_text)[0]\n",
    "        scores[i] = score\n",
    "        print(f\"{score=}\")\n",
    "    except:\n",
    "        pass\n",
    "    \n",
    "\n",
    "scores.mean()"
   ]
  },
  {
   "cell_type": "markdown",
   "metadata": {},
   "source": [
    "#### Explain the label of fewshot examples based on a self-articulated rule"
   ]
  },
  {
   "cell_type": "code",
   "execution_count": 21,
   "metadata": {},
   "outputs": [
    {
     "ename": "NameError",
     "evalue": "name 'get_fewshot_examples' is not defined",
     "output_type": "error",
     "traceback": [
      "\u001b[0;31m---------------------------------------------------------------------------\u001b[0m",
      "\u001b[0;31mNameError\u001b[0m                                 Traceback (most recent call last)",
      "\u001b[1;32m/Users/canrager/articulate_rules/evaluation.ipynb Cell 10\u001b[0m line \u001b[0;36m1\n\u001b[0;32m----> <a href='vscode-notebook-cell:/Users/canrager/articulate_rules/evaluation.ipynb#X24sZmlsZQ%3D%3D?line=0'>1</a>\u001b[0m fewshot_examples \u001b[39m=\u001b[39m get_fewshot_examples(RULE, DATASET_DIR, N_FEWSHOT_EXAMPLES)\n\u001b[1;32m      <a href='vscode-notebook-cell:/Users/canrager/articulate_rules/evaluation.ipynb#X24sZmlsZQ%3D%3D?line=1'>2</a>\u001b[0m rule_articulation \u001b[39m=\u001b[39m generate_rule_articulation(system_prompt, context_prompt, fewshot_examples, articulation_prompt)\n\u001b[1;32m      <a href='vscode-notebook-cell:/Users/canrager/articulate_rules/evaluation.ipynb#X24sZmlsZQ%3D%3D?line=3'>4</a>\u001b[0m messages \u001b[39m=\u001b[39m [\n\u001b[1;32m      <a href='vscode-notebook-cell:/Users/canrager/articulate_rules/evaluation.ipynb#X24sZmlsZQ%3D%3D?line=4'>5</a>\u001b[0m     {\u001b[39m\"\u001b[39m\u001b[39mrole\u001b[39m\u001b[39m\"\u001b[39m: \u001b[39m\"\u001b[39m\u001b[39msystem\u001b[39m\u001b[39m\"\u001b[39m, \u001b[39m\"\u001b[39m\u001b[39mcontent\u001b[39m\u001b[39m\"\u001b[39m: system_prompt},\n\u001b[1;32m      <a href='vscode-notebook-cell:/Users/canrager/articulate_rules/evaluation.ipynb#X24sZmlsZQ%3D%3D?line=5'>6</a>\u001b[0m     {\u001b[39m\"\u001b[39m\u001b[39mrole\u001b[39m\u001b[39m\"\u001b[39m: \u001b[39m\"\u001b[39m\u001b[39muser\u001b[39m\u001b[39m\"\u001b[39m, \u001b[39m\"\u001b[39m\u001b[39mcontent\u001b[39m\u001b[39m\"\u001b[39m: context_prompt \u001b[39m+\u001b[39m fewshot_examples \u001b[39m+\u001b[39m articulation_prompt},\n\u001b[1;32m      <a href='vscode-notebook-cell:/Users/canrager/articulate_rules/evaluation.ipynb#X24sZmlsZQ%3D%3D?line=6'>7</a>\u001b[0m     {\u001b[39m\"\u001b[39m\u001b[39mrole\u001b[39m\u001b[39m\"\u001b[39m: \u001b[39m\"\u001b[39m\u001b[39massistant\u001b[39m\u001b[39m\"\u001b[39m, \u001b[39m\"\u001b[39m\u001b[39mcontent\u001b[39m\u001b[39m\"\u001b[39m: rule_articulation},\n\u001b[1;32m      <a href='vscode-notebook-cell:/Users/canrager/articulate_rules/evaluation.ipynb#X24sZmlsZQ%3D%3D?line=7'>8</a>\u001b[0m     {\u001b[39m\"\u001b[39m\u001b[39mrole\u001b[39m\u001b[39m\"\u001b[39m: \u001b[39m\"\u001b[39m\u001b[39muser\u001b[39m\u001b[39m\"\u001b[39m, \u001b[39m\"\u001b[39m\u001b[39mcontent\u001b[39m\u001b[39m\"\u001b[39m: cot_prompt}\n\u001b[1;32m      <a href='vscode-notebook-cell:/Users/canrager/articulate_rules/evaluation.ipynb#X24sZmlsZQ%3D%3D?line=8'>9</a>\u001b[0m ]\n",
      "\u001b[0;31mNameError\u001b[0m: name 'get_fewshot_examples' is not defined"
     ]
    }
   ],
   "source": [
    "fewshot_examples = exp.get_fewshot_examples(rule='capitalistic')\n",
    "rule_articulation = exp.generate_rule_articulation()\n",
    "\n",
    "messages = [\n",
    "    {\"role\": \"system\", \"content\": SYSTEM_PROMPT},\n",
    "    {\"role\": \"user\", \"content\": CONTEXT_PROMPT + fewshot_examples + ARTICULATION_PROMPT},\n",
    "    {\"role\": \"assistant\", \"content\": rule_articulation},\n",
    "    {\"role\": \"user\", \"content\": COT_PROMPT}\n",
    "    ]\n",
    "\n",
    "# OpenAI Text Generation\n",
    "out = openai.ChatCompletion.create(\n",
    "    model=\"gpt-3.5-turbo\",\n",
    "    messages=messages,\n",
    ")\n",
    "rule_example_mapping = out.choices[0].message.content\n",
    "print(f\"{RULE=}\")\n",
    "# print(f\"{messages=}\")\n",
    "print(rule_example_mapping)\n",
    "\n",
    "fewshot_examples = None"
   ]
  },
  {
   "cell_type": "markdown",
   "metadata": {},
   "source": [
    "### Does articulating increase classification accuracy?"
   ]
  },
  {
   "cell_type": "code",
   "execution_count": null,
   "metadata": {},
   "outputs": [],
   "source": [
    "labels = []\n",
    "preds = []\n",
    "\n",
    "for i in tqdm(range(N_EXP)):\n",
    "    fewshot_examples, task_input, label = get_examples_prompt()\n",
    "    labels.append(label)\n",
    "\n",
    "    rule_articulation = articulation_by_model()\n",
    "\n",
    "    messages = [\n",
    "    {\"role\": \"system\", \"content\": STSTEM_PROMPT},\n",
    "    {\"role\": \"user\", \"content\": CONTEXT_PROMPT + fewshot_examples + ARTICULATION_PROMPT},\n",
    "    {\"role\": \"assistant\", \"content\": rule_articulation},\n",
    "    {\"role\": \"user\", \"content\": CLASSIFICATION_PROMPT + task_input}\n",
    "    ]\n",
    "    # OpenAI Text Generation\n",
    "    out = openai.ChatCompletion.create(\n",
    "        model=\"gpt-3.5-turbo\",\n",
    "        messages=messages,\n",
    "    )\n",
    "    prediction = out.choices[0].message.content\n",
    "    prediction.strip(' ,./123567890;:\"')\n",
    "    preds.append(prediction)\n",
    "\n",
    "\n",
    "    print(CONTEXT_PROMPT + fewshot_examples + ARTICULATION_PROMPT)\n",
    "    print(f\"\\n{rule_articulation}\\n\")\n",
    "    print(CLASSIFICATION_PROMPT + task_input)\n",
    "    print(f'{prediction=}')\n",
    "    print(f'{label=}\\n\\n')\n",
    "\n",
    "print(f'{labels=}')\n",
    "print(f'{preds=}')\n",
    "\n",
    "# Check if preds are in [\"True\", \"False\"]\n",
    "for p in preds:\n",
    "    if p not in [\"True\", \"False\"]:\n",
    "        raise ValueError(f\"{p} cannot be converted into binary prediction.\")\n",
    "\n",
    "labels = np.array([1 if l == \"True\" else 0 for l in labels ])\n",
    "preds = np.array([1 if l == \"True\" else 0 for l in preds ])\n",
    "acc = np.sum(labels == preds) / N_EXP\n",
    "\n",
    "print(f\"Accuracy = {acc}\")\n",
    "    "
   ]
  },
  {
   "cell_type": "code",
   "execution_count": null,
   "metadata": {},
   "outputs": [],
   "source": []
  },
  {
   "cell_type": "code",
   "execution_count": null,
   "metadata": {},
   "outputs": [],
   "source": []
  },
  {
   "cell_type": "code",
   "execution_count": null,
   "metadata": {},
   "outputs": [],
   "source": []
  },
  {
   "cell_type": "code",
   "execution_count": null,
   "metadata": {},
   "outputs": [],
   "source": []
  },
  {
   "cell_type": "code",
   "execution_count": 46,
   "metadata": {},
   "outputs": [
    {
     "ename": "KeyboardInterrupt",
     "evalue": "",
     "output_type": "error",
     "traceback": [
      "\u001b[0;31m---------------------------------------------------------------------------\u001b[0m",
      "\u001b[0;31mKeyboardInterrupt\u001b[0m                         Traceback (most recent call last)",
      "\u001b[1;32m/Users/canrager/articulate_rules/evaluation.ipynb Cell 28\u001b[0m line \u001b[0;36m8\n\u001b[1;32m      <a href='vscode-notebook-cell:/Users/canrager/articulate_rules/evaluation.ipynb#X66sZmlsZQ%3D%3D?line=2'>3</a>\u001b[0m messages \u001b[39m=\u001b[39m [\n\u001b[1;32m      <a href='vscode-notebook-cell:/Users/canrager/articulate_rules/evaluation.ipynb#X66sZmlsZQ%3D%3D?line=3'>4</a>\u001b[0m     {\u001b[39m\"\u001b[39m\u001b[39mrole\u001b[39m\u001b[39m\"\u001b[39m: \u001b[39m\"\u001b[39m\u001b[39msystem\u001b[39m\u001b[39m\"\u001b[39m, \u001b[39m\"\u001b[39m\u001b[39mcontent\u001b[39m\u001b[39m\"\u001b[39m: \u001b[39m\"\u001b[39m\u001b[39mYou are a helpful assistant.\u001b[39m\u001b[39m\"\u001b[39m},\n\u001b[1;32m      <a href='vscode-notebook-cell:/Users/canrager/articulate_rules/evaluation.ipynb#X66sZmlsZQ%3D%3D?line=4'>5</a>\u001b[0m     {\u001b[39m\"\u001b[39m\u001b[39mrole\u001b[39m\u001b[39m\"\u001b[39m: \u001b[39m\"\u001b[39m\u001b[39muser\u001b[39m\u001b[39m\"\u001b[39m, \u001b[39m\"\u001b[39m\u001b[39mcontent\u001b[39m\u001b[39m\"\u001b[39m: rule_gen_prompt},\n\u001b[1;32m      <a href='vscode-notebook-cell:/Users/canrager/articulate_rules/evaluation.ipynb#X66sZmlsZQ%3D%3D?line=5'>6</a>\u001b[0m     ]\n\u001b[1;32m      <a href='vscode-notebook-cell:/Users/canrager/articulate_rules/evaluation.ipynb#X66sZmlsZQ%3D%3D?line=6'>7</a>\u001b[0m \u001b[39m# OpenAI Text Generation\u001b[39;00m\n\u001b[0;32m----> <a href='vscode-notebook-cell:/Users/canrager/articulate_rules/evaluation.ipynb#X66sZmlsZQ%3D%3D?line=7'>8</a>\u001b[0m out \u001b[39m=\u001b[39m openai\u001b[39m.\u001b[39;49mChatCompletion\u001b[39m.\u001b[39;49mcreate(\n\u001b[1;32m      <a href='vscode-notebook-cell:/Users/canrager/articulate_rules/evaluation.ipynb#X66sZmlsZQ%3D%3D?line=8'>9</a>\u001b[0m     model\u001b[39m=\u001b[39;49m\u001b[39m\"\u001b[39;49m\u001b[39mgpt-4\u001b[39;49m\u001b[39m\"\u001b[39;49m,\n\u001b[1;32m     <a href='vscode-notebook-cell:/Users/canrager/articulate_rules/evaluation.ipynb#X66sZmlsZQ%3D%3D?line=9'>10</a>\u001b[0m     messages\u001b[39m=\u001b[39;49mmessages,\n\u001b[1;32m     <a href='vscode-notebook-cell:/Users/canrager/articulate_rules/evaluation.ipynb#X66sZmlsZQ%3D%3D?line=10'>11</a>\u001b[0m )\n\u001b[1;32m     <a href='vscode-notebook-cell:/Users/canrager/articulate_rules/evaluation.ipynb#X66sZmlsZQ%3D%3D?line=11'>12</a>\u001b[0m ans \u001b[39m=\u001b[39m out\u001b[39m.\u001b[39mchoices[\u001b[39m0\u001b[39m]\u001b[39m.\u001b[39mmessage\u001b[39m.\u001b[39mcontent\n\u001b[1;32m     <a href='vscode-notebook-cell:/Users/canrager/articulate_rules/evaluation.ipynb#X66sZmlsZQ%3D%3D?line=12'>13</a>\u001b[0m \u001b[39mprint\u001b[39m(ans)\n",
      "File \u001b[0;32m~/.pyenv/versions/3.10.0/envs/arena_env/lib/python3.10/site-packages/openai/api_resources/chat_completion.py:25\u001b[0m, in \u001b[0;36mChatCompletion.create\u001b[0;34m(cls, *args, **kwargs)\u001b[0m\n\u001b[1;32m     23\u001b[0m \u001b[39mwhile\u001b[39;00m \u001b[39mTrue\u001b[39;00m:\n\u001b[1;32m     24\u001b[0m     \u001b[39mtry\u001b[39;00m:\n\u001b[0;32m---> 25\u001b[0m         \u001b[39mreturn\u001b[39;00m \u001b[39msuper\u001b[39;49m()\u001b[39m.\u001b[39;49mcreate(\u001b[39m*\u001b[39;49margs, \u001b[39m*\u001b[39;49m\u001b[39m*\u001b[39;49mkwargs)\n\u001b[1;32m     26\u001b[0m     \u001b[39mexcept\u001b[39;00m TryAgain \u001b[39mas\u001b[39;00m e:\n\u001b[1;32m     27\u001b[0m         \u001b[39mif\u001b[39;00m timeout \u001b[39mis\u001b[39;00m \u001b[39mnot\u001b[39;00m \u001b[39mNone\u001b[39;00m \u001b[39mand\u001b[39;00m time\u001b[39m.\u001b[39mtime() \u001b[39m>\u001b[39m start \u001b[39m+\u001b[39m timeout:\n",
      "File \u001b[0;32m~/.pyenv/versions/3.10.0/envs/arena_env/lib/python3.10/site-packages/openai/api_resources/abstract/engine_api_resource.py:153\u001b[0m, in \u001b[0;36mEngineAPIResource.create\u001b[0;34m(cls, api_key, api_base, api_type, request_id, api_version, organization, **params)\u001b[0m\n\u001b[1;32m    127\u001b[0m \u001b[39m@classmethod\u001b[39m\n\u001b[1;32m    128\u001b[0m \u001b[39mdef\u001b[39;00m \u001b[39mcreate\u001b[39m(\n\u001b[1;32m    129\u001b[0m     \u001b[39mcls\u001b[39m,\n\u001b[0;32m   (...)\u001b[0m\n\u001b[1;32m    136\u001b[0m     \u001b[39m*\u001b[39m\u001b[39m*\u001b[39mparams,\n\u001b[1;32m    137\u001b[0m ):\n\u001b[1;32m    138\u001b[0m     (\n\u001b[1;32m    139\u001b[0m         deployment_id,\n\u001b[1;32m    140\u001b[0m         engine,\n\u001b[0;32m   (...)\u001b[0m\n\u001b[1;32m    150\u001b[0m         api_key, api_base, api_type, api_version, organization, \u001b[39m*\u001b[39m\u001b[39m*\u001b[39mparams\n\u001b[1;32m    151\u001b[0m     )\n\u001b[0;32m--> 153\u001b[0m     response, _, api_key \u001b[39m=\u001b[39m requestor\u001b[39m.\u001b[39;49mrequest(\n\u001b[1;32m    154\u001b[0m         \u001b[39m\"\u001b[39;49m\u001b[39mpost\u001b[39;49m\u001b[39m\"\u001b[39;49m,\n\u001b[1;32m    155\u001b[0m         url,\n\u001b[1;32m    156\u001b[0m         params\u001b[39m=\u001b[39;49mparams,\n\u001b[1;32m    157\u001b[0m         headers\u001b[39m=\u001b[39;49mheaders,\n\u001b[1;32m    158\u001b[0m         stream\u001b[39m=\u001b[39;49mstream,\n\u001b[1;32m    159\u001b[0m         request_id\u001b[39m=\u001b[39;49mrequest_id,\n\u001b[1;32m    160\u001b[0m         request_timeout\u001b[39m=\u001b[39;49mrequest_timeout,\n\u001b[1;32m    161\u001b[0m     )\n\u001b[1;32m    163\u001b[0m     \u001b[39mif\u001b[39;00m stream:\n\u001b[1;32m    164\u001b[0m         \u001b[39m# must be an iterator\u001b[39;00m\n\u001b[1;32m    165\u001b[0m         \u001b[39massert\u001b[39;00m \u001b[39mnot\u001b[39;00m \u001b[39misinstance\u001b[39m(response, OpenAIResponse)\n",
      "File \u001b[0;32m~/.pyenv/versions/3.10.0/envs/arena_env/lib/python3.10/site-packages/openai/api_requestor.py:220\u001b[0m, in \u001b[0;36mAPIRequestor.request\u001b[0;34m(self, method, url, params, headers, files, stream, request_id, request_timeout)\u001b[0m\n\u001b[1;32m    209\u001b[0m \u001b[39mdef\u001b[39;00m \u001b[39mrequest\u001b[39m(\n\u001b[1;32m    210\u001b[0m     \u001b[39mself\u001b[39m,\n\u001b[1;32m    211\u001b[0m     method,\n\u001b[0;32m   (...)\u001b[0m\n\u001b[1;32m    218\u001b[0m     request_timeout: Optional[Union[\u001b[39mfloat\u001b[39m, Tuple[\u001b[39mfloat\u001b[39m, \u001b[39mfloat\u001b[39m]]] \u001b[39m=\u001b[39m \u001b[39mNone\u001b[39;00m,\n\u001b[1;32m    219\u001b[0m ) \u001b[39m-\u001b[39m\u001b[39m>\u001b[39m Tuple[Union[OpenAIResponse, Iterator[OpenAIResponse]], \u001b[39mbool\u001b[39m, \u001b[39mstr\u001b[39m]:\n\u001b[0;32m--> 220\u001b[0m     result \u001b[39m=\u001b[39m \u001b[39mself\u001b[39;49m\u001b[39m.\u001b[39;49mrequest_raw(\n\u001b[1;32m    221\u001b[0m         method\u001b[39m.\u001b[39;49mlower(),\n\u001b[1;32m    222\u001b[0m         url,\n\u001b[1;32m    223\u001b[0m         params\u001b[39m=\u001b[39;49mparams,\n\u001b[1;32m    224\u001b[0m         supplied_headers\u001b[39m=\u001b[39;49mheaders,\n\u001b[1;32m    225\u001b[0m         files\u001b[39m=\u001b[39;49mfiles,\n\u001b[1;32m    226\u001b[0m         stream\u001b[39m=\u001b[39;49mstream,\n\u001b[1;32m    227\u001b[0m         request_id\u001b[39m=\u001b[39;49mrequest_id,\n\u001b[1;32m    228\u001b[0m         request_timeout\u001b[39m=\u001b[39;49mrequest_timeout,\n\u001b[1;32m    229\u001b[0m     )\n\u001b[1;32m    230\u001b[0m     resp, got_stream \u001b[39m=\u001b[39m \u001b[39mself\u001b[39m\u001b[39m.\u001b[39m_interpret_response(result, stream)\n\u001b[1;32m    231\u001b[0m     \u001b[39mreturn\u001b[39;00m resp, got_stream, \u001b[39mself\u001b[39m\u001b[39m.\u001b[39mapi_key\n",
      "File \u001b[0;32m~/.pyenv/versions/3.10.0/envs/arena_env/lib/python3.10/site-packages/openai/api_requestor.py:520\u001b[0m, in \u001b[0;36mAPIRequestor.request_raw\u001b[0;34m(self, method, url, params, supplied_headers, files, stream, request_id, request_timeout)\u001b[0m\n\u001b[1;32m    518\u001b[0m     _thread_context\u001b[39m.\u001b[39msession \u001b[39m=\u001b[39m _make_session()\n\u001b[1;32m    519\u001b[0m \u001b[39mtry\u001b[39;00m:\n\u001b[0;32m--> 520\u001b[0m     result \u001b[39m=\u001b[39m _thread_context\u001b[39m.\u001b[39;49msession\u001b[39m.\u001b[39;49mrequest(\n\u001b[1;32m    521\u001b[0m         method,\n\u001b[1;32m    522\u001b[0m         abs_url,\n\u001b[1;32m    523\u001b[0m         headers\u001b[39m=\u001b[39;49mheaders,\n\u001b[1;32m    524\u001b[0m         data\u001b[39m=\u001b[39;49mdata,\n\u001b[1;32m    525\u001b[0m         files\u001b[39m=\u001b[39;49mfiles,\n\u001b[1;32m    526\u001b[0m         stream\u001b[39m=\u001b[39;49mstream,\n\u001b[1;32m    527\u001b[0m         timeout\u001b[39m=\u001b[39;49mrequest_timeout \u001b[39mif\u001b[39;49;00m request_timeout \u001b[39melse\u001b[39;49;00m TIMEOUT_SECS,\n\u001b[1;32m    528\u001b[0m         proxies\u001b[39m=\u001b[39;49m_thread_context\u001b[39m.\u001b[39;49msession\u001b[39m.\u001b[39;49mproxies,\n\u001b[1;32m    529\u001b[0m     )\n\u001b[1;32m    530\u001b[0m \u001b[39mexcept\u001b[39;00m requests\u001b[39m.\u001b[39mexceptions\u001b[39m.\u001b[39mTimeout \u001b[39mas\u001b[39;00m e:\n\u001b[1;32m    531\u001b[0m     \u001b[39mraise\u001b[39;00m error\u001b[39m.\u001b[39mTimeout(\u001b[39m\"\u001b[39m\u001b[39mRequest timed out: \u001b[39m\u001b[39m{}\u001b[39;00m\u001b[39m\"\u001b[39m\u001b[39m.\u001b[39mformat(e)) \u001b[39mfrom\u001b[39;00m \u001b[39me\u001b[39;00m\n",
      "File \u001b[0;32m~/.pyenv/versions/3.10.0/envs/arena_env/lib/python3.10/site-packages/requests/sessions.py:587\u001b[0m, in \u001b[0;36mSession.request\u001b[0;34m(self, method, url, params, data, headers, cookies, files, auth, timeout, allow_redirects, proxies, hooks, stream, verify, cert, json)\u001b[0m\n\u001b[1;32m    582\u001b[0m send_kwargs \u001b[39m=\u001b[39m {\n\u001b[1;32m    583\u001b[0m     \u001b[39m\"\u001b[39m\u001b[39mtimeout\u001b[39m\u001b[39m\"\u001b[39m: timeout,\n\u001b[1;32m    584\u001b[0m     \u001b[39m\"\u001b[39m\u001b[39mallow_redirects\u001b[39m\u001b[39m\"\u001b[39m: allow_redirects,\n\u001b[1;32m    585\u001b[0m }\n\u001b[1;32m    586\u001b[0m send_kwargs\u001b[39m.\u001b[39mupdate(settings)\n\u001b[0;32m--> 587\u001b[0m resp \u001b[39m=\u001b[39m \u001b[39mself\u001b[39;49m\u001b[39m.\u001b[39;49msend(prep, \u001b[39m*\u001b[39;49m\u001b[39m*\u001b[39;49msend_kwargs)\n\u001b[1;32m    589\u001b[0m \u001b[39mreturn\u001b[39;00m resp\n",
      "File \u001b[0;32m~/.pyenv/versions/3.10.0/envs/arena_env/lib/python3.10/site-packages/requests/sessions.py:701\u001b[0m, in \u001b[0;36mSession.send\u001b[0;34m(self, request, **kwargs)\u001b[0m\n\u001b[1;32m    698\u001b[0m start \u001b[39m=\u001b[39m preferred_clock()\n\u001b[1;32m    700\u001b[0m \u001b[39m# Send the request\u001b[39;00m\n\u001b[0;32m--> 701\u001b[0m r \u001b[39m=\u001b[39m adapter\u001b[39m.\u001b[39;49msend(request, \u001b[39m*\u001b[39;49m\u001b[39m*\u001b[39;49mkwargs)\n\u001b[1;32m    703\u001b[0m \u001b[39m# Total elapsed time of the request (approximately)\u001b[39;00m\n\u001b[1;32m    704\u001b[0m elapsed \u001b[39m=\u001b[39m preferred_clock() \u001b[39m-\u001b[39m start\n",
      "File \u001b[0;32m~/.pyenv/versions/3.10.0/envs/arena_env/lib/python3.10/site-packages/requests/adapters.py:486\u001b[0m, in \u001b[0;36mHTTPAdapter.send\u001b[0;34m(self, request, stream, timeout, verify, cert, proxies)\u001b[0m\n\u001b[1;32m    483\u001b[0m     timeout \u001b[39m=\u001b[39m TimeoutSauce(connect\u001b[39m=\u001b[39mtimeout, read\u001b[39m=\u001b[39mtimeout)\n\u001b[1;32m    485\u001b[0m \u001b[39mtry\u001b[39;00m:\n\u001b[0;32m--> 486\u001b[0m     resp \u001b[39m=\u001b[39m conn\u001b[39m.\u001b[39;49murlopen(\n\u001b[1;32m    487\u001b[0m         method\u001b[39m=\u001b[39;49mrequest\u001b[39m.\u001b[39;49mmethod,\n\u001b[1;32m    488\u001b[0m         url\u001b[39m=\u001b[39;49murl,\n\u001b[1;32m    489\u001b[0m         body\u001b[39m=\u001b[39;49mrequest\u001b[39m.\u001b[39;49mbody,\n\u001b[1;32m    490\u001b[0m         headers\u001b[39m=\u001b[39;49mrequest\u001b[39m.\u001b[39;49mheaders,\n\u001b[1;32m    491\u001b[0m         redirect\u001b[39m=\u001b[39;49m\u001b[39mFalse\u001b[39;49;00m,\n\u001b[1;32m    492\u001b[0m         assert_same_host\u001b[39m=\u001b[39;49m\u001b[39mFalse\u001b[39;49;00m,\n\u001b[1;32m    493\u001b[0m         preload_content\u001b[39m=\u001b[39;49m\u001b[39mFalse\u001b[39;49;00m,\n\u001b[1;32m    494\u001b[0m         decode_content\u001b[39m=\u001b[39;49m\u001b[39mFalse\u001b[39;49;00m,\n\u001b[1;32m    495\u001b[0m         retries\u001b[39m=\u001b[39;49m\u001b[39mself\u001b[39;49m\u001b[39m.\u001b[39;49mmax_retries,\n\u001b[1;32m    496\u001b[0m         timeout\u001b[39m=\u001b[39;49mtimeout,\n\u001b[1;32m    497\u001b[0m         chunked\u001b[39m=\u001b[39;49mchunked,\n\u001b[1;32m    498\u001b[0m     )\n\u001b[1;32m    500\u001b[0m \u001b[39mexcept\u001b[39;00m (ProtocolError, \u001b[39mOSError\u001b[39;00m) \u001b[39mas\u001b[39;00m err:\n\u001b[1;32m    501\u001b[0m     \u001b[39mraise\u001b[39;00m \u001b[39mConnectionError\u001b[39;00m(err, request\u001b[39m=\u001b[39mrequest)\n",
      "File \u001b[0;32m~/.pyenv/versions/3.10.0/envs/arena_env/lib/python3.10/site-packages/urllib3/connectionpool.py:714\u001b[0m, in \u001b[0;36mHTTPConnectionPool.urlopen\u001b[0;34m(self, method, url, body, headers, retries, redirect, assert_same_host, timeout, pool_timeout, release_conn, chunked, body_pos, **response_kw)\u001b[0m\n\u001b[1;32m    711\u001b[0m     \u001b[39mself\u001b[39m\u001b[39m.\u001b[39m_prepare_proxy(conn)\n\u001b[1;32m    713\u001b[0m \u001b[39m# Make the request on the httplib connection object.\u001b[39;00m\n\u001b[0;32m--> 714\u001b[0m httplib_response \u001b[39m=\u001b[39m \u001b[39mself\u001b[39;49m\u001b[39m.\u001b[39;49m_make_request(\n\u001b[1;32m    715\u001b[0m     conn,\n\u001b[1;32m    716\u001b[0m     method,\n\u001b[1;32m    717\u001b[0m     url,\n\u001b[1;32m    718\u001b[0m     timeout\u001b[39m=\u001b[39;49mtimeout_obj,\n\u001b[1;32m    719\u001b[0m     body\u001b[39m=\u001b[39;49mbody,\n\u001b[1;32m    720\u001b[0m     headers\u001b[39m=\u001b[39;49mheaders,\n\u001b[1;32m    721\u001b[0m     chunked\u001b[39m=\u001b[39;49mchunked,\n\u001b[1;32m    722\u001b[0m )\n\u001b[1;32m    724\u001b[0m \u001b[39m# If we're going to release the connection in ``finally:``, then\u001b[39;00m\n\u001b[1;32m    725\u001b[0m \u001b[39m# the response doesn't need to know about the connection. Otherwise\u001b[39;00m\n\u001b[1;32m    726\u001b[0m \u001b[39m# it will also try to release it and we'll have a double-release\u001b[39;00m\n\u001b[1;32m    727\u001b[0m \u001b[39m# mess.\u001b[39;00m\n\u001b[1;32m    728\u001b[0m response_conn \u001b[39m=\u001b[39m conn \u001b[39mif\u001b[39;00m \u001b[39mnot\u001b[39;00m release_conn \u001b[39melse\u001b[39;00m \u001b[39mNone\u001b[39;00m\n",
      "File \u001b[0;32m~/.pyenv/versions/3.10.0/envs/arena_env/lib/python3.10/site-packages/urllib3/connectionpool.py:466\u001b[0m, in \u001b[0;36mHTTPConnectionPool._make_request\u001b[0;34m(self, conn, method, url, timeout, chunked, **httplib_request_kw)\u001b[0m\n\u001b[1;32m    461\u001b[0m             httplib_response \u001b[39m=\u001b[39m conn\u001b[39m.\u001b[39mgetresponse()\n\u001b[1;32m    462\u001b[0m         \u001b[39mexcept\u001b[39;00m \u001b[39mBaseException\u001b[39;00m \u001b[39mas\u001b[39;00m e:\n\u001b[1;32m    463\u001b[0m             \u001b[39m# Remove the TypeError from the exception chain in\u001b[39;00m\n\u001b[1;32m    464\u001b[0m             \u001b[39m# Python 3 (including for exceptions like SystemExit).\u001b[39;00m\n\u001b[1;32m    465\u001b[0m             \u001b[39m# Otherwise it looks like a bug in the code.\u001b[39;00m\n\u001b[0;32m--> 466\u001b[0m             six\u001b[39m.\u001b[39;49mraise_from(e, \u001b[39mNone\u001b[39;49;00m)\n\u001b[1;32m    467\u001b[0m \u001b[39mexcept\u001b[39;00m (SocketTimeout, BaseSSLError, SocketError) \u001b[39mas\u001b[39;00m e:\n\u001b[1;32m    468\u001b[0m     \u001b[39mself\u001b[39m\u001b[39m.\u001b[39m_raise_timeout(err\u001b[39m=\u001b[39me, url\u001b[39m=\u001b[39murl, timeout_value\u001b[39m=\u001b[39mread_timeout)\n",
      "File \u001b[0;32m<string>:3\u001b[0m, in \u001b[0;36mraise_from\u001b[0;34m(value, from_value)\u001b[0m\n",
      "File \u001b[0;32m~/.pyenv/versions/3.10.0/envs/arena_env/lib/python3.10/site-packages/urllib3/connectionpool.py:461\u001b[0m, in \u001b[0;36mHTTPConnectionPool._make_request\u001b[0;34m(self, conn, method, url, timeout, chunked, **httplib_request_kw)\u001b[0m\n\u001b[1;32m    458\u001b[0m \u001b[39mexcept\u001b[39;00m \u001b[39mTypeError\u001b[39;00m:\n\u001b[1;32m    459\u001b[0m     \u001b[39m# Python 3\u001b[39;00m\n\u001b[1;32m    460\u001b[0m     \u001b[39mtry\u001b[39;00m:\n\u001b[0;32m--> 461\u001b[0m         httplib_response \u001b[39m=\u001b[39m conn\u001b[39m.\u001b[39;49mgetresponse()\n\u001b[1;32m    462\u001b[0m     \u001b[39mexcept\u001b[39;00m \u001b[39mBaseException\u001b[39;00m \u001b[39mas\u001b[39;00m e:\n\u001b[1;32m    463\u001b[0m         \u001b[39m# Remove the TypeError from the exception chain in\u001b[39;00m\n\u001b[1;32m    464\u001b[0m         \u001b[39m# Python 3 (including for exceptions like SystemExit).\u001b[39;00m\n\u001b[1;32m    465\u001b[0m         \u001b[39m# Otherwise it looks like a bug in the code.\u001b[39;00m\n\u001b[1;32m    466\u001b[0m         six\u001b[39m.\u001b[39mraise_from(e, \u001b[39mNone\u001b[39;00m)\n",
      "File \u001b[0;32m~/.pyenv/versions/3.10.0/lib/python3.10/http/client.py:1368\u001b[0m, in \u001b[0;36mHTTPConnection.getresponse\u001b[0;34m(self)\u001b[0m\n\u001b[1;32m   1366\u001b[0m \u001b[39mtry\u001b[39;00m:\n\u001b[1;32m   1367\u001b[0m     \u001b[39mtry\u001b[39;00m:\n\u001b[0;32m-> 1368\u001b[0m         response\u001b[39m.\u001b[39;49mbegin()\n\u001b[1;32m   1369\u001b[0m     \u001b[39mexcept\u001b[39;00m \u001b[39mConnectionError\u001b[39;00m:\n\u001b[1;32m   1370\u001b[0m         \u001b[39mself\u001b[39m\u001b[39m.\u001b[39mclose()\n",
      "File \u001b[0;32m~/.pyenv/versions/3.10.0/lib/python3.10/http/client.py:317\u001b[0m, in \u001b[0;36mHTTPResponse.begin\u001b[0;34m(self)\u001b[0m\n\u001b[1;32m    315\u001b[0m \u001b[39m# read until we get a non-100 response\u001b[39;00m\n\u001b[1;32m    316\u001b[0m \u001b[39mwhile\u001b[39;00m \u001b[39mTrue\u001b[39;00m:\n\u001b[0;32m--> 317\u001b[0m     version, status, reason \u001b[39m=\u001b[39m \u001b[39mself\u001b[39;49m\u001b[39m.\u001b[39;49m_read_status()\n\u001b[1;32m    318\u001b[0m     \u001b[39mif\u001b[39;00m status \u001b[39m!=\u001b[39m CONTINUE:\n\u001b[1;32m    319\u001b[0m         \u001b[39mbreak\u001b[39;00m\n",
      "File \u001b[0;32m~/.pyenv/versions/3.10.0/lib/python3.10/http/client.py:278\u001b[0m, in \u001b[0;36mHTTPResponse._read_status\u001b[0;34m(self)\u001b[0m\n\u001b[1;32m    277\u001b[0m \u001b[39mdef\u001b[39;00m \u001b[39m_read_status\u001b[39m(\u001b[39mself\u001b[39m):\n\u001b[0;32m--> 278\u001b[0m     line \u001b[39m=\u001b[39m \u001b[39mstr\u001b[39m(\u001b[39mself\u001b[39;49m\u001b[39m.\u001b[39;49mfp\u001b[39m.\u001b[39;49mreadline(_MAXLINE \u001b[39m+\u001b[39;49m \u001b[39m1\u001b[39;49m), \u001b[39m\"\u001b[39m\u001b[39miso-8859-1\u001b[39m\u001b[39m\"\u001b[39m)\n\u001b[1;32m    279\u001b[0m     \u001b[39mif\u001b[39;00m \u001b[39mlen\u001b[39m(line) \u001b[39m>\u001b[39m _MAXLINE:\n\u001b[1;32m    280\u001b[0m         \u001b[39mraise\u001b[39;00m LineTooLong(\u001b[39m\"\u001b[39m\u001b[39mstatus line\u001b[39m\u001b[39m\"\u001b[39m)\n",
      "File \u001b[0;32m~/.pyenv/versions/3.10.0/lib/python3.10/socket.py:705\u001b[0m, in \u001b[0;36mSocketIO.readinto\u001b[0;34m(self, b)\u001b[0m\n\u001b[1;32m    703\u001b[0m \u001b[39mwhile\u001b[39;00m \u001b[39mTrue\u001b[39;00m:\n\u001b[1;32m    704\u001b[0m     \u001b[39mtry\u001b[39;00m:\n\u001b[0;32m--> 705\u001b[0m         \u001b[39mreturn\u001b[39;00m \u001b[39mself\u001b[39;49m\u001b[39m.\u001b[39;49m_sock\u001b[39m.\u001b[39;49mrecv_into(b)\n\u001b[1;32m    706\u001b[0m     \u001b[39mexcept\u001b[39;00m timeout:\n\u001b[1;32m    707\u001b[0m         \u001b[39mself\u001b[39m\u001b[39m.\u001b[39m_timeout_occurred \u001b[39m=\u001b[39m \u001b[39mTrue\u001b[39;00m\n",
      "File \u001b[0;32m~/.pyenv/versions/3.10.0/lib/python3.10/ssl.py:1273\u001b[0m, in \u001b[0;36mSSLSocket.recv_into\u001b[0;34m(self, buffer, nbytes, flags)\u001b[0m\n\u001b[1;32m   1269\u001b[0m     \u001b[39mif\u001b[39;00m flags \u001b[39m!=\u001b[39m \u001b[39m0\u001b[39m:\n\u001b[1;32m   1270\u001b[0m         \u001b[39mraise\u001b[39;00m \u001b[39mValueError\u001b[39;00m(\n\u001b[1;32m   1271\u001b[0m           \u001b[39m\"\u001b[39m\u001b[39mnon-zero flags not allowed in calls to recv_into() on \u001b[39m\u001b[39m%s\u001b[39;00m\u001b[39m\"\u001b[39m \u001b[39m%\u001b[39m\n\u001b[1;32m   1272\u001b[0m           \u001b[39mself\u001b[39m\u001b[39m.\u001b[39m\u001b[39m__class__\u001b[39m)\n\u001b[0;32m-> 1273\u001b[0m     \u001b[39mreturn\u001b[39;00m \u001b[39mself\u001b[39;49m\u001b[39m.\u001b[39;49mread(nbytes, buffer)\n\u001b[1;32m   1274\u001b[0m \u001b[39melse\u001b[39;00m:\n\u001b[1;32m   1275\u001b[0m     \u001b[39mreturn\u001b[39;00m \u001b[39msuper\u001b[39m()\u001b[39m.\u001b[39mrecv_into(buffer, nbytes, flags)\n",
      "File \u001b[0;32m~/.pyenv/versions/3.10.0/lib/python3.10/ssl.py:1129\u001b[0m, in \u001b[0;36mSSLSocket.read\u001b[0;34m(self, len, buffer)\u001b[0m\n\u001b[1;32m   1127\u001b[0m \u001b[39mtry\u001b[39;00m:\n\u001b[1;32m   1128\u001b[0m     \u001b[39mif\u001b[39;00m buffer \u001b[39mis\u001b[39;00m \u001b[39mnot\u001b[39;00m \u001b[39mNone\u001b[39;00m:\n\u001b[0;32m-> 1129\u001b[0m         \u001b[39mreturn\u001b[39;00m \u001b[39mself\u001b[39;49m\u001b[39m.\u001b[39;49m_sslobj\u001b[39m.\u001b[39;49mread(\u001b[39mlen\u001b[39;49m, buffer)\n\u001b[1;32m   1130\u001b[0m     \u001b[39melse\u001b[39;00m:\n\u001b[1;32m   1131\u001b[0m         \u001b[39mreturn\u001b[39;00m \u001b[39mself\u001b[39m\u001b[39m.\u001b[39m_sslobj\u001b[39m.\u001b[39mread(\u001b[39mlen\u001b[39m)\n",
      "\u001b[0;31mKeyboardInterrupt\u001b[0m: "
     ]
    }
   ],
   "source": [
    "rule_gen_prompt = 'I am doing a benchmark for sentence classification with gpt-3.5-turbo. Each sentence is labeled as true or false given a specific rule. I am looking for rules where gpt-3.5-turbo is good at classification but bad ad articulating the rule.'\n",
    "\n",
    "messages = [\n",
    "    {\"role\": \"system\", \"content\": \"You are a helpful assistant.\"},\n",
    "    {\"role\": \"user\", \"content\": rule_gen_prompt},\n",
    "    ]\n",
    "# OpenAI Text Generation\n",
    "out = openai.ChatCompletion.create(\n",
    "    model=\"gpt-4\",\n",
    "    messages=messages,\n",
    ")\n",
    "ans = out.choices[0].message.content\n",
    "print(ans)"
   ]
  },
  {
   "cell_type": "code",
   "execution_count": null,
   "metadata": {},
   "outputs": [],
   "source": []
  }
 ],
 "metadata": {
  "kernelspec": {
   "display_name": "arena_env",
   "language": "python",
   "name": "python3"
  },
  "language_info": {
   "codemirror_mode": {
    "name": "ipython",
    "version": 3
   },
   "file_extension": ".py",
   "mimetype": "text/x-python",
   "name": "python",
   "nbconvert_exporter": "python",
   "pygments_lexer": "ipython3",
   "version": "3.10.0"
  }
 },
 "nbformat": 4,
 "nbformat_minor": 2
}
